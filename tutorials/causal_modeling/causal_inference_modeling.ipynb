{
 "cells": [
  {
   "cell_type": "code",
   "execution_count": 24,
   "metadata": {},
   "outputs": [],
   "source": [
    "import numpy as np \n",
    "import pandas as pd \n",
    "from scipy.stats import chi2_contingency"
   ]
  },
  {
   "cell_type": "markdown",
   "metadata": {},
   "source": [
    "## Causal Inference Modeling "
   ]
  },
  {
   "cell_type": "markdown",
   "metadata": {},
   "source": [
    "Problem Statement: What is the strength of the correlation between RTO and productivity at work? Is there a causal relationship between RTO and workplace productivity?\n",
    "\n",
    "Let X represent RTO status and Y represent worker productivity, where\n",
    " - X = 1 represents workers who go into the office for work, and \n",
    " - Y = 1 represents workers who are \"productive.\"\n"
   ]
  },
  {
   "cell_type": "markdown",
   "metadata": {},
   "source": [
    "##### Question 1: What is the quanitity of workers who RTO but are not considered \"productive\"? \n",
    "\n",
    "Solve by calculating P(Y=1|X=1)−P(Y=1|X=0); subract the mean probability of \"productive\" RTO workers from the mean probabilty of \"productive\" non-RTO workers."
   ]
  },
  {
   "cell_type": "markdown",
   "metadata": {},
   "source": [
    "##### Create a function to infer productivity by RTO status. "
   ]
  },
  {
   "cell_type": "code",
   "execution_count": 9,
   "metadata": {},
   "outputs": [],
   "source": [
    "def estimate_uplift(df):\n",
    "    no_rto = df[df.x == 0]\n",
    "    rto = df[df.x == 1]\n",
    "    delta = rto.y.mean() - no_rto.y.mean()\n",
    "    delta_err = 1.96 * np.sqrt(\n",
    "        rto.y.var() / rto.shape[0] + \n",
    "        no_rto.y.var() / no_rto.shape[0])\n",
    "    return {\"estimated_effect\": delta, \"standard_error\": delta_err}"
   ]
  },
  {
   "cell_type": "markdown",
   "metadata": {},
   "source": [
    "##### Create a synthetic dataset."
   ]
  },
  {
   "cell_type": "code",
   "execution_count": 7,
   "metadata": {},
   "outputs": [
    {
     "data": {
      "text/html": [
       "<div>\n",
       "<style scoped>\n",
       "    .dataframe tbody tr th:only-of-type {\n",
       "        vertical-align: middle;\n",
       "    }\n",
       "\n",
       "    .dataframe tbody tr th {\n",
       "        vertical-align: top;\n",
       "    }\n",
       "\n",
       "    .dataframe thead th {\n",
       "        text-align: right;\n",
       "    }\n",
       "</style>\n",
       "<table border=\"1\" class=\"dataframe\">\n",
       "  <thead>\n",
       "    <tr style=\"text-align: right;\">\n",
       "      <th></th>\n",
       "      <th>x</th>\n",
       "      <th>y</th>\n",
       "    </tr>\n",
       "  </thead>\n",
       "  <tbody>\n",
       "    <tr>\n",
       "      <th>0</th>\n",
       "      <td>1</td>\n",
       "      <td>0</td>\n",
       "    </tr>\n",
       "    <tr>\n",
       "      <th>1</th>\n",
       "      <td>0</td>\n",
       "      <td>1</td>\n",
       "    </tr>\n",
       "    <tr>\n",
       "      <th>2</th>\n",
       "      <td>1</td>\n",
       "      <td>0</td>\n",
       "    </tr>\n",
       "    <tr>\n",
       "      <th>3</th>\n",
       "      <td>0</td>\n",
       "      <td>0</td>\n",
       "    </tr>\n",
       "    <tr>\n",
       "      <th>4</th>\n",
       "      <td>1</td>\n",
       "      <td>0</td>\n",
       "    </tr>\n",
       "  </tbody>\n",
       "</table>\n",
       "</div>"
      ],
      "text/plain": [
       "   x  y\n",
       "0  1  0\n",
       "1  0  1\n",
       "2  1  0\n",
       "3  0  0\n",
       "4  1  0"
      ]
     },
     "execution_count": 7,
     "metadata": {},
     "output_type": "execute_result"
    }
   ],
   "source": [
    "p_z = 0.5\n",
    "p_x_z = [0.9, 0.1]\n",
    "p_y_xz = [0.2, 0.4, 0.6, 0.8]\n",
    "z = np.random.binomial(n=1, p=p_z, size=500)\n",
    "p_x = np.choose(z, p_x_z)\n",
    "x = np.random.binomial(n=1, p=p_x, size=500)\n",
    "p_y = np.choose(x+2*z, p_y_xz)\n",
    "y = np.random.binomial(n=1, p=p_y, size=500)\n",
    "data = pd.DataFrame({\"x\":x, \"y\":y})\n",
    "data.head()"
   ]
  },
  {
   "cell_type": "markdown",
   "metadata": {},
   "source": [
    "##### Estimate causal relationship between RTO & workplace productivity."
   ]
  },
  {
   "cell_type": "code",
   "execution_count": 8,
   "metadata": {},
   "outputs": [
    {
     "data": {
      "text/plain": [
       "{'estimated_effect': -0.10784172546760751, 'standard_error': 0.087250515533598}"
      ]
     },
     "execution_count": 8,
     "metadata": {},
     "output_type": "execute_result"
    }
   ],
   "source": [
    "estimate_uplift(data)"
   ]
  },
  {
   "cell_type": "markdown",
   "metadata": {},
   "source": [
    "##### Preliminary Results\n",
    "\n",
    "From these \"estimated_effect\" results we can infer that RTO has an inverse effect on workplace productivity. RTO workers are inferred to be less productive than non-RTO workers. To confirm results, we'll run a chi-square contingency test (i.e., chi-square test of independence/association). "
   ]
  },
  {
   "cell_type": "markdown",
   "metadata": {},
   "source": [
    "##### Chi-Square Contingency\n",
    "\n",
    "Perform a chi-square test to determine whether there exists a significant association between two categorical variables, RTO status and workplace productivity.  "
   ]
  },
  {
   "cell_type": "code",
   "execution_count": 1,
   "metadata": {},
   "outputs": [],
   "source": [
    "def chi2(df): \n",
    "    contingency_table = (\n",
    "        df\n",
    "        .assign(placeholder=1)\n",
    "        .pivot_table(index=\"x\", columns=\"y\", values=\"placeholder\", aggfunc=\"sum\")\n",
    "        .values\n",
    "    )\n",
    "    _, p, _, _ = chi2_contingency(contingency_table, lambda_=\"log-likelihood\")\n",
    "    print(\"p-value:\", p)\n"
   ]
  },
  {
   "cell_type": "code",
   "execution_count": 26,
   "metadata": {},
   "outputs": [
    {
     "name": "stdout",
     "output_type": "stream",
     "text": [
      "p-value: 0.02002396205089891\n"
     ]
    }
   ],
   "source": [
    "chi2(data)"
   ]
  },
  {
   "cell_type": "markdown",
   "metadata": {},
   "source": [
    "##### Conclusion\n",
    "\n",
    "With a p-value < 0.05, we can assume statistical significance. We can now estimate the probability of a worker's productivity based on their RTO status."
   ]
  }
 ],
 "metadata": {
  "kernelspec": {
   "display_name": ".venv",
   "language": "python",
   "name": "python3"
  },
  "language_info": {
   "codemirror_mode": {
    "name": "ipython",
    "version": 3
   },
   "file_extension": ".py",
   "mimetype": "text/x-python",
   "name": "python",
   "nbconvert_exporter": "python",
   "pygments_lexer": "ipython3",
   "version": "3.10.12"
  },
  "orig_nbformat": 4
 },
 "nbformat": 4,
 "nbformat_minor": 2
}
