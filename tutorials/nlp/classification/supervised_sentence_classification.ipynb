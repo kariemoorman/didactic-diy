{
 "cells": [
  {
   "cell_type": "code",
   "execution_count": 6,
   "metadata": {},
   "outputs": [],
   "source": [
    "import string\n",
    "\n",
    "from sklearn.feature_extraction.text import TfidfVectorizer\n",
    "from sklearn.model_selection import train_test_split\n",
    "from sklearn.svm import SVC\n",
    "from sklearn.linear_model import LogisticRegression\n",
    "from sklearn.ensemble import RandomForestClassifier, VotingClassifier\n",
    "from sklearn.metrics import classification_report, confusion_matrix\n"
   ]
  },
  {
   "cell_type": "markdown",
   "metadata": {},
   "source": [
    "## Sentence Classification Using Supervised Learning "
   ]
  },
  {
   "cell_type": "markdown",
   "metadata": {},
   "source": [
    "### Generate Dataset "
   ]
  },
  {
   "cell_type": "code",
   "execution_count": 13,
   "metadata": {},
   "outputs": [
    {
     "name": "stdout",
     "output_type": "stream",
     "text": [
      "[('Python is a high level programming language', 'programming'), ('Machine learning algorithms can be implemented in Python', 'programming'), ('Java is popular for enterprise software development', 'programming'), ('JavaScript is widely used for web development', 'programming'), ('Data science involves analyzing large datasets', 'programming'), ('Python is a versatile and beginner friendly programming language used for web development  data analysis  and artificial intelligence', 'programming'), ('JavaScript is a scripting language commonly used for building interactive websites and web applications', 'programming'), ('Java is a widely used object oriented programming language  known for its platform independence and versatility', 'programming'), ('C   is a powerful programming language used for system software  game development  and high performance applications', 'programming'), ('HTML and CSS are essential languages for creating and styling web pages on the internet', 'programming'), ('PHP is a server side scripting language used for web development and creating dynamic web pages', 'programming'), ('Ruby on Rails is a popular web application framework written in Ruby  emphasizing convention over configuration', 'programming'), ('SQL  Structured Query Language  is a language used for managing and querying relational databases', 'programming'), ('Swift is a programming language developed by Apple for building iOS  macOS  watchOS  and tvOS applications', 'programming'), ('Go  also known as Golang  is a statically typed language developed by Google  designed for simplicity and efficiency', 'programming'), ('TypeScript is a superset of JavaScript that adds static typing and other features to enhance code maintainability and scalability', 'programming'), ('Rust is a systems programming language focused on safety  speed  and concurrency  developed by Mozilla', 'programming'), ('Kotlin is a modern programming language that runs on the Java Virtual Machine  JVM   widely used for Android app development', 'programming'), ('PHP is a server side scripting language used for web development and creating dynamic web pages', 'programming'), ('MATLAB is a high level programming language and interactive environment for numerical computation and visualization', 'programming'), ('R is a programming language and environment commonly used for statistical analysis and data visualization', 'programming'), ('Shell scripting involves writing scripts to automate tasks in Unix like operating systems using shell commands', 'programming'), ('Assembly language is a low level programming language used for writing programs that interact directly with hardware', 'programming'), ('Lisp is a family of programming languages known for their unique syntax and powerful features  including support for symbolic computation', 'programming'), ('Dart is a programming language developed by Google  used for building web  mobile  and desktop applications using the Flutter framework', 'programming'), ('Basketball is an exciting sport to watch', 'sports'), ('Football requires strength and teamwork', 'sports'), ('Tennis players need agility and precision', 'sports'), ('Swimming is a great way to stay fit', 'sports'), ('Golf is a relaxing sport played outdoors Soccer  also known as football in many countries  is the most popular sport globally', 'sports'), ('Basketball is a fast paced team sport played on a rectangular court  involving shooting and dribbling', 'sports'), ('Tennis is a racket sport played individually or in doubles  with players hitting a ball over a net', 'sports'), ('Swimming is a full body exercise and a popular recreational activity  with various strokes like freestyle and butterfly', 'sports'), ('Cricket is a bat and ball game played between two teams  popular in countries like India  England  and Australia', 'sports'), ('Golf is a precision sport where players use clubs to hit balls into a series of holes on a course', 'sports'), ('Running includes various disciplines like sprinting  long distance running  and marathon races', 'sports'), ('Baseball is a bat and ball game played between two teams  with players aiming to score runs by hitting the ball and running around bases', 'sports'), ('Gymnastics involves performing acrobatic feats and routines on apparatus like bars  beams  and vaults', 'sports'), ('Rugby is a physical contact sport similar to football  played with an oval ball and involving tackling and passing', 'sports'), ('Cycling includes road racing  track cycling  and mountain biking  with events like the Tour de France attracting global attention', 'sports'), ('Volleyball is a team sport played with a ball over a net  requiring coordination and teamwork', 'sports'), ('Martial arts encompass a variety of combat practices and disciplines  including karate  judo  and taekwondo', 'sports'), ('Ice hockey is a fast paced sport played on ice  with players using sticks to hit a puck into the opponent s goal', 'sports'), ('Figure skating combines elements of dance  gymnastics  and precision  performed on ice skates', 'sports'), ('Surfing involves riding waves on a board  with locations like Hawaii and California renowned for their surf spots', 'sports'), ('Skiing includes downhill  cross country  and freestyle disciplines  popular in mountainous regions during winter', 'sports'), ('Sailing is a water sport involving navigating sailboats across bodies of water  with competitions like the America s Cup showcasing elite sailing', 'sports'), ('Horse racing involves horses running at high speeds on tracks  with events like the Kentucky Derby capturing widespread interest', 'sports'), ('Boxing is a combat sport where two opponents fight using their fists  with matches divided into rounds and regulated by rules and referees', 'sports'), ('Cats are independent animals', 'animals'), ('Dogs are known for their loyalty to humans', 'animals'), ('Elephants are the largest land animals', 'animals'), ('Birds have feathers and lay eggs', 'animals'), ('Lions are apex predators in the wild', 'animals'), ('Tigers are majestic creatures found in various habitats across Asia', 'animals'), ('Dolphins are highly intelligent marine mammals known for their playful behavior', 'animals'), ('Elephants are the largest land animals and are revered in many cultures', 'animals'), ('Penguins are flightless birds that thrive in cold climates  often found in Antarctica', 'animals'), ('Koalas are iconic marsupials native to Australia  known for their eucalyptus diet', 'animals'), ('Giraffes have long necks that help them reach high leaves in trees on the African savannah', 'animals'), ('Octopuses are remarkable cephalopods with complex nervous systems and camouflage abilities', 'animals'), ('Polar bears are well adapted to Arctic environments  relying on sea ice for hunting', 'animals'), ('Monarch butterflies undertake long migrations across North America to their wintering grounds', 'animals'), ('Chimpanzees are our closest living relatives  sharing approximately 98  of our DNA', 'animals'), ('Honeybees play a vital role in pollinating crops and maintaining ecosystems', 'animals'), ('Red pandas are adorable arboreal mammals native to the forests of the Himalayas', 'animals'), ('Orcas  also known as killer whales  are apex predators of the ocean  known for their social behavior', 'animals'), ('Blue whales are the largest animals ever known to have existed  found in oceans worldwide', 'animals'), ('Red foxes are adaptable carnivores found in diverse habitats  from forests to urban areas', 'animals'), ('African elephants form close knit family groups led by matriarchs  with strong social bonds', 'animals'), ('Snow leopards are elusive big cats adapted to life in the mountainous regions of Central Asia', 'animals'), ('Hummingbirds are tiny birds capable of hovering in mid air  known for their iridescent plumage', 'animals'), ('Giant pandas are beloved symbols of conservation  native to bamboo forests in China', 'animals'), ('Sea turtles are ancient reptiles that migrate long distances between feeding and nesting grounds', 'animals'), ('Supply and demand determine prices in a market economy', 'economics'), ('Inflation erodes the purchasing power of money', 'economics'), ('Unemployment can lead to social and economic problems', 'economics'), ('GDP measures the total value of goods and services produced in a country', 'economics'), ('Monetary policy influences interest rates and money supply', 'economics'), ('The global economy is interconnected  affecting nations across borders', 'economics'), ('Fiscal policy involves government decisions on taxation and spending', 'economics'), ('Economic growth is crucial for increasing standards of living', 'economics'), ('Trade agreements facilitate the exchange of goods and services between countries', 'economics'), ('The stock market reflects investor sentiment and economic performance', 'economics'), ('Central banks regulate monetary policy to control inflation and stabilize currencies', 'economics'), ('Income inequality is a significant challenge in many economies', 'economics'), ('Technological advancements drive productivity and innovation in the economy', 'economics'), ('Consumer spending is a key driver of economic activity', 'economics'), ('Tariffs and trade barriers can disrupt international trade flows', 'economics'), ('Economic recessions are periods of negative growth and high unemployment', 'economics'), ('Economic indicators such as GDP and unemployment rates provide insights into economic health', 'economics'), ('International aid programs aim to alleviate poverty and promote economic development', 'economics'), ('Economic globalization has led to increased interconnectedness but also vulnerabilities', 'economics'), ('The housing market plays a crucial role in the overall economy', 'economics'), ('Economic sanctions are used to influence the behavior of countries on the global stage', 'economics'), ('Economic forecasting helps businesses and policymakers make informed decisions', 'economics'), ('Sustainable development balances economic growth with environmental protection', 'economics'), ('The gig economy is reshaping traditional employment structures', 'economics'), ('Economic policy debates often center around issues like taxation  regulation  and government intervention', 'economics')]\n"
     ]
    }
   ],
   "source": [
    "def remove_punctuation(text):\n",
    "    punct_list = list(string.punctuation)\n",
    "    for punc in punct_list:\n",
    "        if punc in text:\n",
    "            text = text.replace(punc, ' ')\n",
    "    return text.strip()\n",
    "\n",
    "# Sample data\n",
    "# Categories and corresponding sentences\n",
    "categories = {\n",
    "    \"programming\": [\n",
    "        \"Python is a high-level programming language.\",\n",
    "        \"Machine learning algorithms can be implemented in Python.\",\n",
    "        \"Java is popular for enterprise software development.\",\n",
    "        \"JavaScript is widely used for web development.\",\n",
    "        \"Data science involves analyzing large datasets.\",\n",
    "        \"Python is a versatile and beginner-friendly programming language used for web development, data analysis, and artificial intelligence.\",\n",
    "        \"JavaScript is a scripting language commonly used for building interactive websites and web applications.\",\n",
    "        \"Java is a widely-used object-oriented programming language, known for its platform independence and versatility.\",\n",
    "        \"C++ is a powerful programming language used for system software, game development, and high-performance applications.\",\n",
    "        \"HTML and CSS are essential languages for creating and styling web pages on the internet.\",\n",
    "        \"PHP is a server-side scripting language used for web development and creating dynamic web pages.\",\n",
    "        \"Ruby on Rails is a popular web application framework written in Ruby, emphasizing convention over configuration.\",\n",
    "        \"SQL (Structured Query Language) is a language used for managing and querying relational databases.\",\n",
    "        \"Swift is a programming language developed by Apple for building iOS, macOS, watchOS, and tvOS applications.\",\n",
    "        \"Go, also known as Golang, is a statically typed language developed by Google, designed for simplicity and efficiency.\",\n",
    "        \"TypeScript is a superset of JavaScript that adds static typing and other features to enhance code maintainability and scalability.\",\n",
    "        \"Rust is a systems programming language focused on safety, speed, and concurrency, developed by Mozilla.\",\n",
    "        \"Kotlin is a modern programming language that runs on the Java Virtual Machine (JVM), widely used for Android app development.\",\n",
    "        \"PHP is a server-side scripting language used for web development and creating dynamic web pages.\",\n",
    "        \"MATLAB is a high-level programming language and interactive environment for numerical computation and visualization.\",\n",
    "        \"R is a programming language and environment commonly used for statistical analysis and data visualization.\",\n",
    "        \"Shell scripting involves writing scripts to automate tasks in Unix-like operating systems using shell commands.\",\n",
    "        \"Assembly language is a low-level programming language used for writing programs that interact directly with hardware.\",\n",
    "        \"Lisp is a family of programming languages known for their unique syntax and powerful features, including support for symbolic computation.\",\n",
    "        \"Dart is a programming language developed by Google, used for building web, mobile, and desktop applications using the Flutter framework.\"\n",
    "    ],\n",
    "    \"sports\": [\n",
    "        \"Basketball is an exciting sport to watch.\",\n",
    "        \"Football requires strength and teamwork.\",\n",
    "        \"Tennis players need agility and precision.\",\n",
    "        \"Swimming is a great way to stay fit.\",\n",
    "        \"Golf is a relaxing sport played outdoors.\"\n",
    "        \"Soccer, also known as football in many countries, is the most popular sport globally.\",\n",
    "        \"Basketball is a fast-paced team sport played on a rectangular court, involving shooting and dribbling.\",\n",
    "        \"Tennis is a racket sport played individually or in doubles, with players hitting a ball over a net.\",\n",
    "        \"Swimming is a full-body exercise and a popular recreational activity, with various strokes like freestyle and butterfly.\",\n",
    "        \"Cricket is a bat-and-ball game played between two teams, popular in countries like India, England, and Australia.\",\n",
    "        \"Golf is a precision sport where players use clubs to hit balls into a series of holes on a course.\",\n",
    "        \"Running includes various disciplines like sprinting, long-distance running, and marathon races.\",\n",
    "        \"Baseball is a bat-and-ball game played between two teams, with players aiming to score runs by hitting the ball and running around bases.\",\n",
    "        \"Gymnastics involves performing acrobatic feats and routines on apparatus like bars, beams, and vaults.\",\n",
    "        \"Rugby is a physical contact sport similar to football, played with an oval ball and involving tackling and passing.\",\n",
    "        \"Cycling includes road racing, track cycling, and mountain biking, with events like the Tour de France attracting global attention.\",\n",
    "        \"Volleyball is a team sport played with a ball over a net, requiring coordination and teamwork.\",\n",
    "        \"Martial arts encompass a variety of combat practices and disciplines, including karate, judo, and taekwondo.\",\n",
    "        \"Ice hockey is a fast-paced sport played on ice, with players using sticks to hit a puck into the opponent's goal.\",\n",
    "        \"Figure skating combines elements of dance, gymnastics, and precision, performed on ice skates.\",\n",
    "        \"Surfing involves riding waves on a board, with locations like Hawaii and California renowned for their surf spots.\",\n",
    "        \"Skiing includes downhill, cross-country, and freestyle disciplines, popular in mountainous regions during winter.\",\n",
    "        \"Sailing is a water sport involving navigating sailboats across bodies of water, with competitions like the America's Cup showcasing elite sailing.\",\n",
    "        \"Horse racing involves horses running at high speeds on tracks, with events like the Kentucky Derby capturing widespread interest.\",\n",
    "        \"Boxing is a combat sport where two opponents fight using their fists, with matches divided into rounds and regulated by rules and referees.\"\n",
    "    ],\n",
    "    \"animals\": [\n",
    "        \"Cats are independent animals.\",\n",
    "        \"Dogs are known for their loyalty to humans.\",\n",
    "        \"Elephants are the largest land animals.\",\n",
    "        \"Birds have feathers and lay eggs.\",\n",
    "        \"Lions are apex predators in the wild.\",\n",
    "        \"Tigers are majestic creatures found in various habitats across Asia.\",\n",
    "        \"Dolphins are highly intelligent marine mammals known for their playful behavior.\",\n",
    "        \"Elephants are the largest land animals and are revered in many cultures.\",\n",
    "        \"Penguins are flightless birds that thrive in cold climates, often found in Antarctica.\",\n",
    "        \"Koalas are iconic marsupials native to Australia, known for their eucalyptus diet.\",\n",
    "        \"Giraffes have long necks that help them reach high leaves in trees on the African savannah.\",\n",
    "        \"Octopuses are remarkable cephalopods with complex nervous systems and camouflage abilities.\",\n",
    "        \"Polar bears are well-adapted to Arctic environments, relying on sea ice for hunting.\",\n",
    "        \"Monarch butterflies undertake long migrations across North America to their wintering grounds.\",\n",
    "        \"Chimpanzees are our closest living relatives, sharing approximately 98% of our DNA.\",\n",
    "        \"Honeybees play a vital role in pollinating crops and maintaining ecosystems.\",\n",
    "        \"Red pandas are adorable arboreal mammals native to the forests of the Himalayas.\",\n",
    "        \"Orcas, also known as killer whales, are apex predators of the ocean, known for their social behavior.\",\n",
    "        \"Blue whales are the largest animals ever known to have existed, found in oceans worldwide.\",\n",
    "        \"Red foxes are adaptable carnivores found in diverse habitats, from forests to urban areas.\",\n",
    "        \"African elephants form close-knit family groups led by matriarchs, with strong social bonds.\",\n",
    "        \"Snow leopards are elusive big cats adapted to life in the mountainous regions of Central Asia.\",\n",
    "        \"Hummingbirds are tiny birds capable of hovering in mid-air, known for their iridescent plumage.\",\n",
    "        \"Giant pandas are beloved symbols of conservation, native to bamboo forests in China.\",\n",
    "        \"Sea turtles are ancient reptiles that migrate long distances between feeding and nesting grounds.\"\n",
    "    ],\n",
    "    \"economics\": [\n",
    "        \"Supply and demand determine prices in a market economy.\",\n",
    "        \"Inflation erodes the purchasing power of money.\",\n",
    "        \"Unemployment can lead to social and economic problems.\",\n",
    "        \"GDP measures the total value of goods and services produced in a country.\",\n",
    "        \"Monetary policy influences interest rates and money supply.\",\n",
    "        \"The global economy is interconnected, affecting nations across borders.\",\n",
    "        \"Fiscal policy involves government decisions on taxation and spending.\",\n",
    "        \"Economic growth is crucial for increasing standards of living.\",\n",
    "        \"Trade agreements facilitate the exchange of goods and services between countries.\",\n",
    "        \"The stock market reflects investor sentiment and economic performance.\",\n",
    "        \"Central banks regulate monetary policy to control inflation and stabilize currencies.\",\n",
    "        \"Income inequality is a significant challenge in many economies.\",\n",
    "        \"Technological advancements drive productivity and innovation in the economy.\",\n",
    "        \"Consumer spending is a key driver of economic activity.\",\n",
    "        \"Tariffs and trade barriers can disrupt international trade flows.\",\n",
    "        \"Economic recessions are periods of negative growth and high unemployment.\",\n",
    "        \"Economic indicators such as GDP and unemployment rates provide insights into economic health.\",\n",
    "        \"International aid programs aim to alleviate poverty and promote economic development.\",\n",
    "        \"Economic globalization has led to increased interconnectedness but also vulnerabilities.\",\n",
    "        \"The housing market plays a crucial role in the overall economy.\",\n",
    "        \"Economic sanctions are used to influence the behavior of countries on the global stage.\",\n",
    "        \"Economic forecasting helps businesses and policymakers make informed decisions.\",\n",
    "        \"Sustainable development balances economic growth with environmental protection.\",\n",
    "        \"The gig economy is reshaping traditional employment structures.\",\n",
    "        \"Economic policy debates often center around issues like taxation, regulation, and government intervention.\"\n",
    "    ]\n",
    "}\n",
    "\n",
    "# Create corpus in required format\n",
    "corpus = []\n",
    "for category, sentences in categories.items():\n",
    "    for sentence in sentences:\n",
    "        sentence = remove_punctuation(sentence)\n",
    "        corpus.append((sentence, category))\n",
    "\n",
    "print(corpus)"
   ]
  },
  {
   "cell_type": "markdown",
   "metadata": {},
   "source": [
    "### Vectorize Dataset Using TF-IDF"
   ]
  },
  {
   "cell_type": "code",
   "execution_count": null,
   "metadata": {},
   "outputs": [],
   "source": [
    "# Split data into features and labels\n",
    "X, y = zip(*corpus)\n",
    "\n",
    "# TF-IDF Vectorization\n",
    "vectorizer = TfidfVectorizer(ngram_range=(1,2))\n",
    "X = vectorizer.fit_transform(X)\n",
    "\n",
    "# Split data into train and test sets\n",
    "X_train, X_test, y_train, y_test = train_test_split(X, y, test_size=0.2, random_state=52)"
   ]
  },
  {
   "cell_type": "markdown",
   "metadata": {},
   "source": [
    "### Train  Support Vector Machine (SVM) Classifier Model"
   ]
  },
  {
   "cell_type": "code",
   "execution_count": 14,
   "metadata": {},
   "outputs": [
    {
     "name": "stdout",
     "output_type": "stream",
     "text": [
      "              precision    recall  f1-score   support\n",
      "\n",
      "     animals       1.00      0.71      0.83         7\n",
      "   economics       0.75      1.00      0.86         3\n",
      " programming       1.00      0.83      0.91         6\n",
      "      sports       0.67      1.00      0.80         4\n",
      "\n",
      "    accuracy                           0.85        20\n",
      "   macro avg       0.85      0.89      0.85        20\n",
      "weighted avg       0.90      0.85      0.85        20\n",
      "\n"
     ]
    }
   ],
   "source": [
    "# Train SVM classifier\n",
    "clf = SVC(kernel='linear')\n",
    "clf.fit(X_train, y_train)\n",
    "\n",
    "# Predict\n",
    "y_pred = clf.predict(X_test)\n",
    "\n",
    "# Evaluate\n",
    "print(classification_report(y_test, y_pred))"
   ]
  },
  {
   "cell_type": "code",
   "execution_count": 15,
   "metadata": {},
   "outputs": [
    {
     "name": "stdout",
     "output_type": "stream",
     "text": [
      "Actual Label: programming, Predicted Label: economics, Sentence:   (0, 54)\t0.31169966131139576\n",
      "  (0, 55)\t0.31169966131139576\n",
      "  (0, 370)\t0.26771498510350167\n",
      "  (0, 372)\t0.31169966131139576\n",
      "  (0, 375)\t0.31169966131139576\n",
      "  (0, 767)\t0.23220374027194834\n",
      "  (0, 768)\t0.31169966131139576\n",
      "  (0, 862)\t0.31169966131139576\n",
      "  (0, 863)\t0.31169966131139576\n",
      "  (0, 1260)\t0.31169966131139576\n",
      "  (0, 1261)\t0.31169966131139576\n",
      "Actual Label: animals, Predicted Label: sports, Sentence:   (0, 5)\t0.17874253579854185\n",
      "  (0, 9)\t0.21973130024301618\n",
      "  (0, 46)\t0.20159348303219948\n",
      "  (0, 48)\t0.21973130024301618\n",
      "  (0, 254)\t0.21973130024301618\n",
      "  (0, 255)\t0.21973130024301618\n",
      "  (0, 612)\t0.20159348303219948\n",
      "  (0, 901)\t0.17874253579854185\n",
      "  (0, 904)\t0.21973130024301618\n",
      "  (0, 956)\t0.21973130024301618\n",
      "  (0, 957)\t0.21973130024301618\n",
      "  (0, 962)\t0.21973130024301618\n",
      "  (0, 963)\t0.21973130024301618\n",
      "  (0, 993)\t0.21973130024301618\n",
      "  (0, 994)\t0.21973130024301618\n",
      "  (0, 1445)\t0.14773573247618202\n",
      "  (0, 1454)\t0.21973130024301618\n",
      "  (0, 1463)\t0.11047690767740678\n",
      "  (0, 1482)\t0.21973130024301618\n",
      "  (0, 1514)\t0.21973130024301618\n",
      "  (0, 1515)\t0.21973130024301618\n",
      "  (0, 1587)\t0.21973130024301618\n",
      "  (0, 1588)\t0.21973130024301618\n",
      "Actual Label: animals, Predicted Label: sports, Sentence:   (0, 2)\t0.2329669952524804\n",
      "  (0, 58)\t0.07753886297195302\n",
      "  (0, 66)\t0.2329669952524804\n",
      "  (0, 140)\t0.11511306113118461\n",
      "  (0, 156)\t0.2329669952524804\n",
      "  (0, 266)\t0.2329669952524804\n",
      "  (0, 267)\t0.2329669952524804\n",
      "  (0, 286)\t0.2329669952524804\n",
      "  (0, 287)\t0.2329669952524804\n",
      "  (0, 315)\t0.2329669952524804\n",
      "  (0, 316)\t0.2329669952524804\n",
      "  (0, 987)\t0.2329669952524804\n",
      "  (0, 988)\t0.2329669952524804\n",
      "  (0, 1003)\t0.2329669952524804\n",
      "  (0, 1004)\t0.2329669952524804\n",
      "  (0, 1209)\t0.2329669952524804\n",
      "  (0, 1210)\t0.2329669952524804\n",
      "  (0, 1386)\t0.20009247171211195\n",
      "  (0, 1387)\t0.2329669952524804\n",
      "  (0, 1589)\t0.13434342463137505\n",
      "  (0, 1593)\t0.2329669952524804\n"
     ]
    }
   ],
   "source": [
    "# Collect misclassified indices\n",
    "misclassified_indices = [i for i, (true_label, predicted_label) in enumerate(zip(y_test, y_pred)) if true_label != predicted_label]\n",
    "\n",
    "# Print misclassified sentences\n",
    "for index in misclassified_indices:\n",
    "    print(f\"Actual Label: {y_test[index]}, Predicted Label: {y_pred[index]}, Sentence: {X_test[index]}\")"
   ]
  },
  {
   "cell_type": "markdown",
   "metadata": {},
   "source": [
    "### Improve Model Performance Using Voting Classifier"
   ]
  },
  {
   "cell_type": "code",
   "execution_count": 20,
   "metadata": {},
   "outputs": [
    {
     "name": "stdout",
     "output_type": "stream",
     "text": [
      "              precision    recall  f1-score   support\n",
      "\n",
      "     animals       1.00      1.00      1.00         7\n",
      "   economics       0.75      1.00      0.86         3\n",
      " programming       1.00      0.83      0.91         6\n",
      "      sports       1.00      1.00      1.00         4\n",
      "\n",
      "    accuracy                           0.95        20\n",
      "   macro avg       0.94      0.96      0.94        20\n",
      "weighted avg       0.96      0.95      0.95        20\n",
      "\n"
     ]
    }
   ],
   "source": [
    "\n",
    "# Train individual models (e.g., SVM, Random Forest, Logistic Regression)\n",
    "model1 = SVC(kernel='linear', probability=True)\n",
    "model2 = RandomForestClassifier(n_estimators=100)\n",
    "model3 = LogisticRegression()\n",
    "\n",
    "# Create a voting classifier with averaging\n",
    "voting_clf = VotingClassifier(estimators=[('svm', model1), ('rf', model2), ('lr', model3)], voting='soft')\n",
    "\n",
    "# Train the voting classifier on the training data\n",
    "voting_clf.fit(X_train, y_train)\n",
    "\n",
    "# Make predictions using the voting classifier\n",
    "y_pred_voting = voting_clf.predict(X_test)\n",
    "\n",
    "print(classification_report(y_test, y_pred_voting))"
   ]
  },
  {
   "cell_type": "code",
   "execution_count": 21,
   "metadata": {},
   "outputs": [
    {
     "name": "stdout",
     "output_type": "stream",
     "text": [
      "Actual Label: programming, Predicted Label: economics, Sentence:   (0, 54)\t0.31169966131139576\n",
      "  (0, 55)\t0.31169966131139576\n",
      "  (0, 370)\t0.26771498510350167\n",
      "  (0, 372)\t0.31169966131139576\n",
      "  (0, 375)\t0.31169966131139576\n",
      "  (0, 767)\t0.23220374027194834\n",
      "  (0, 768)\t0.31169966131139576\n",
      "  (0, 862)\t0.31169966131139576\n",
      "  (0, 863)\t0.31169966131139576\n",
      "  (0, 1260)\t0.31169966131139576\n",
      "  (0, 1261)\t0.31169966131139576\n"
     ]
    }
   ],
   "source": [
    "# Collect misclassified indices\n",
    "misclassified_indices = [i for i, (true_label, predicted_label) in enumerate(zip(y_test, y_pred_voting)) if true_label != predicted_label]\n",
    "\n",
    "# Print misclassified sentences\n",
    "for index in misclassified_indices:\n",
    "    print(f\"Actual Label: {y_test[index]}, Predicted Label: {y_pred_voting[index]}, Sentence: {X_test[index]}\")"
   ]
  }
 ],
 "metadata": {
  "kernelspec": {
   "display_name": ".venv",
   "language": "python",
   "name": "python3"
  },
  "language_info": {
   "codemirror_mode": {
    "name": "ipython",
    "version": 3
   },
   "file_extension": ".py",
   "mimetype": "text/x-python",
   "name": "python",
   "nbconvert_exporter": "python",
   "pygments_lexer": "ipython3",
   "version": "3.10.14"
  }
 },
 "nbformat": 4,
 "nbformat_minor": 2
}
