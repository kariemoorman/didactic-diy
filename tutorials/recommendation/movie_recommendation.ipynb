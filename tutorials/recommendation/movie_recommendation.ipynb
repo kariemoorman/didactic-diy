{
 "cells": [
  {
   "cell_type": "code",
   "execution_count": 10,
   "metadata": {},
   "outputs": [],
   "source": [
    "import re\n",
    "import numpy as np\n",
    "import pandas as pd\n",
    "import difflib \n",
    "from sklearn.preprocessing import MultiLabelBinarizer, MinMaxScaler\n",
    "from sklearn.feature_extraction.text import TfidfVectorizer\n",
    "from sklearn.metrics.pairwise import cosine_similarity\n",
    "\n",
    "import matplotlib.pyplot as plt\n",
    "import plotly.express as px\n",
    "import plotly.graph_objects as go\n",
    "\n",
    "from IPython.display import Image, display\n"
   ]
  },
  {
   "cell_type": "markdown",
   "metadata": {},
   "source": [
    "### Load Data"
   ]
  },
  {
   "cell_type": "code",
   "execution_count": 3,
   "metadata": {},
   "outputs": [],
   "source": [
    "\n",
    "movie_data = pd.read_csv(\"./data/movies.csv\")\n"
   ]
  },
  {
   "cell_type": "code",
   "execution_count": 75,
   "metadata": {},
   "outputs": [
    {
     "data": {
      "text/html": [
       "<div>\n",
       "<style scoped>\n",
       "    .dataframe tbody tr th:only-of-type {\n",
       "        vertical-align: middle;\n",
       "    }\n",
       "\n",
       "    .dataframe tbody tr th {\n",
       "        vertical-align: top;\n",
       "    }\n",
       "\n",
       "    .dataframe thead th {\n",
       "        text-align: right;\n",
       "    }\n",
       "</style>\n",
       "<table border=\"1\" class=\"dataframe\">\n",
       "  <thead>\n",
       "    <tr style=\"text-align: right;\">\n",
       "      <th></th>\n",
       "      <th>movieId</th>\n",
       "      <th>title</th>\n",
       "      <th>genres</th>\n",
       "    </tr>\n",
       "  </thead>\n",
       "  <tbody>\n",
       "    <tr>\n",
       "      <th>0</th>\n",
       "      <td>1</td>\n",
       "      <td>Toy Story (1995)</td>\n",
       "      <td>Adventure|Animation|Children|Comedy|Fantasy</td>\n",
       "    </tr>\n",
       "    <tr>\n",
       "      <th>1</th>\n",
       "      <td>2</td>\n",
       "      <td>Jumanji (1995)</td>\n",
       "      <td>Adventure|Children|Fantasy</td>\n",
       "    </tr>\n",
       "    <tr>\n",
       "      <th>2</th>\n",
       "      <td>3</td>\n",
       "      <td>Grumpier Old Men (1995)</td>\n",
       "      <td>Comedy|Romance</td>\n",
       "    </tr>\n",
       "    <tr>\n",
       "      <th>3</th>\n",
       "      <td>4</td>\n",
       "      <td>Waiting to Exhale (1995)</td>\n",
       "      <td>Comedy|Drama|Romance</td>\n",
       "    </tr>\n",
       "    <tr>\n",
       "      <th>4</th>\n",
       "      <td>5</td>\n",
       "      <td>Father of the Bride Part II (1995)</td>\n",
       "      <td>Comedy</td>\n",
       "    </tr>\n",
       "  </tbody>\n",
       "</table>\n",
       "</div>"
      ],
      "text/plain": [
       "   movieId                               title  \\\n",
       "0        1                    Toy Story (1995)   \n",
       "1        2                      Jumanji (1995)   \n",
       "2        3             Grumpier Old Men (1995)   \n",
       "3        4            Waiting to Exhale (1995)   \n",
       "4        5  Father of the Bride Part II (1995)   \n",
       "\n",
       "                                        genres  \n",
       "0  Adventure|Animation|Children|Comedy|Fantasy  \n",
       "1                   Adventure|Children|Fantasy  \n",
       "2                               Comedy|Romance  \n",
       "3                         Comedy|Drama|Romance  \n",
       "4                                       Comedy  "
      ]
     },
     "execution_count": 75,
     "metadata": {},
     "output_type": "execute_result"
    }
   ],
   "source": [
    "movie_data.head()"
   ]
  },
  {
   "cell_type": "markdown",
   "metadata": {},
   "source": [
    "### Data Cleaning"
   ]
  },
  {
   "cell_type": "markdown",
   "metadata": {},
   "source": [
    "##### \"movie_data\" dataset\n",
    "\n",
    "(1) Separate movie title from year of release.\n",
    "\n",
    "(2) transform 'genres' column into a vector using one-hot encoding for each row in the dataset. \n",
    "\n",
    "Sorted 20-dimensional vector for binary categorical encoding of movie genres: \n",
    "['(no genres listed)', 'Action', 'Adventure', 'Animation', 'Children', 'Comedy', 'Crime', 'Documentary', 'Drama', 'Fantasy', 'Film-Noir', 'Horror', 'IMAX', 'Musical', 'Mystery', 'Romance', 'Sci-Fi', 'Thriller', 'War', 'Western']\n",
    "\n",
    "Complexity of Genre Matrix: \n",
    "- dimensions: 20\n",
    "- rows: 62423"
   ]
  },
  {
   "cell_type": "code",
   "execution_count": 106,
   "metadata": {},
   "outputs": [
    {
     "name": "stdout",
     "output_type": "stream",
     "text": [
      "   Movie Title: Toy Story\n",
      "   Movie Year: 1995\n",
      "   Genres: ['Adventure, Animation, Children, Comedy, Fantasy']\n",
      "   One-Hot Encoding: [0 0 1 1 1 1 0 0 0 1 0 0 0 0 0 0 0 0 0 0]\n"
     ]
    }
   ],
   "source": [
    "# Data Cleaning\n",
    "\n",
    "year = []\n",
    "titles = []\n",
    "for item in movie_data['title']:\n",
    "    title_match = re.search(r\"^(.*?)\\s*\\(\\d{4}\\)$\", item)\n",
    "    year_match = re.search(r\"\\((\\d{4})\\)\", item)\n",
    "    if year_match:\n",
    "        year_extracted = year_match.group(1)\n",
    "        year.append(year_extracted)\n",
    "    else:\n",
    "        year.append('Nan')\n",
    "    if title_match: \n",
    "        title_extracted = title_match.group(1)\n",
    "        titles.append(title_extracted)\n",
    "    else:\n",
    "        titles.append('Nan')\n",
    "\n",
    "genre_clean = []\n",
    "for input_string in movie_data[\"genres\"]:\n",
    "    output_string = re.sub(r'\\|', ', ', input_string)\n",
    "    genre_clean.append([output_string])\n",
    "\n",
    "# One-Hot Encoding Step\n",
    "mlb = MultiLabelBinarizer()\n",
    "genre_one_hot_encoded = mlb.fit_transform([genres[0].split(', ') for genres in genre_clean])\n",
    "\n",
    "movie_data['movie_title'] = titles\n",
    "movie_data['year'] = year\n",
    "movie_data['genre_clean'] = genre_clean\n",
    "movie_data['genre_one_hot_encoding'] = [arr for arr in genre_one_hot_encoded]\n",
    "genres = ['No_Genre', 'Action', 'Adventure', 'Animation', 'Children', 'Comedy', 'Crime', 'Documentary', 'Drama', 'Fantasy', 'Film-Noir', 'Horror', 'IMAX', 'Musical', 'Mystery', 'Romance', 'Sci-Fi', 'Thriller', 'War', 'Western']\n",
    "df = pd.DataFrame(genre_one_hot_encoded, columns=genres)\n",
    "\n",
    "movie_data = pd.concat([movie_data, df], axis=1)\n",
    "\n",
    "#Example Output\n",
    "print(\"   Movie Title:\", movie_data.movie_title[0])\n",
    "print(\"   Movie Year:\", movie_data.year[0])\n",
    "print(\"   Genres:\", genre_clean[0])\n",
    "print(\"   One-Hot Encoding:\", genre_one_hot_encoded[0])\n"
   ]
  },
  {
   "cell_type": "markdown",
   "metadata": {},
   "source": [
    "### Cosine Similarity"
   ]
  },
  {
   "cell_type": "markdown",
   "metadata": {},
   "source": [
    "Compute cosine similarity between all pairs of movies.\n",
    "\n",
    "The cosine similarity calculation below computes the dot product between the rows of the one_hot_encoded matrix and their transposition (one_hot_encoded.T), resulting in a square matrix where each element (i, j) represents the dot product between rows i and j. The np.linalg.norm(one_hot_encoded, axis=1) computes the norm of each row in the one_hot_encoded matrix. [:, None] is used to convert the 1D array of norms into a column vector. The division operation then calculates the cosine similarity between all pairs of movies.\n",
    "\n",
    "For time complexity, given 62423 rows of 20-D vectors, calculating cosine similarity for all pairwise combinations requires (62423 * 62423) / 2 = 1,551,732,253 calculations. Assuming each cosine similarity calculation takes approximately 1 microsecond, total time to compute all cosine similarities would be around 1,551 seconds (~ 25 minutes) (e.g., using a for loop). Using NumPy broadcasting, time complexity is reduced by 1 order of magnitude (2.5 x 10 ^ 1 -> 2.5 x 10 ^ 0), requiring only ~ 2.5 minutes for completion. "
   ]
  },
  {
   "cell_type": "code",
   "execution_count": 4,
   "metadata": {},
   "outputs": [],
   "source": [
    "# Cosine similarity using L2 Normalization (Euclidean normalization)\n",
    "cosine_similarity = np.dot(genre_one_hot_encoded, genre_one_hot_encoded.T) / (np.linalg.norm(genre_one_hot_encoded, axis=1)[:, None] * np.linalg.norm(genre_one_hot_encoded, axis=1))\n",
    "movie_data['genre_cosine_similarity'] = [arr for arr in cosine_similarity]"
   ]
  },
  {
   "cell_type": "code",
   "execution_count": 5,
   "metadata": {},
   "outputs": [
    {
     "data": {
      "text/html": [
       "<div>\n",
       "<style scoped>\n",
       "    .dataframe tbody tr th:only-of-type {\n",
       "        vertical-align: middle;\n",
       "    }\n",
       "\n",
       "    .dataframe tbody tr th {\n",
       "        vertical-align: top;\n",
       "    }\n",
       "\n",
       "    .dataframe thead th {\n",
       "        text-align: right;\n",
       "    }\n",
       "</style>\n",
       "<table border=\"1\" class=\"dataframe\">\n",
       "  <thead>\n",
       "    <tr style=\"text-align: right;\">\n",
       "      <th></th>\n",
       "      <th>movieId</th>\n",
       "      <th>title</th>\n",
       "      <th>genres</th>\n",
       "      <th>movie_title</th>\n",
       "      <th>year</th>\n",
       "      <th>genre_clean</th>\n",
       "      <th>genre_one_hot_encoding</th>\n",
       "      <th>No_Genre</th>\n",
       "      <th>Action</th>\n",
       "      <th>Adventure</th>\n",
       "      <th>...</th>\n",
       "      <th>Horror</th>\n",
       "      <th>IMAX</th>\n",
       "      <th>Musical</th>\n",
       "      <th>Mystery</th>\n",
       "      <th>Romance</th>\n",
       "      <th>Sci-Fi</th>\n",
       "      <th>Thriller</th>\n",
       "      <th>War</th>\n",
       "      <th>Western</th>\n",
       "      <th>genre_cosine_similarity</th>\n",
       "    </tr>\n",
       "  </thead>\n",
       "  <tbody>\n",
       "    <tr>\n",
       "      <th>0</th>\n",
       "      <td>1</td>\n",
       "      <td>Toy Story (1995)</td>\n",
       "      <td>Adventure|Animation|Children|Comedy|Fantasy</td>\n",
       "      <td>Toy Story</td>\n",
       "      <td>1995</td>\n",
       "      <td>[Adventure, Animation, Children, Comedy, Fantasy]</td>\n",
       "      <td>[0, 0, 1, 1, 1, 1, 0, 0, 0, 1, 0, 0, 0, 0, 0, ...</td>\n",
       "      <td>0</td>\n",
       "      <td>0</td>\n",
       "      <td>1</td>\n",
       "      <td>...</td>\n",
       "      <td>0</td>\n",
       "      <td>0</td>\n",
       "      <td>0</td>\n",
       "      <td>0</td>\n",
       "      <td>0</td>\n",
       "      <td>0</td>\n",
       "      <td>0</td>\n",
       "      <td>0</td>\n",
       "      <td>0</td>\n",
       "      <td>[0.9999999999999998, 0.7745966692414834, 0.316...</td>\n",
       "    </tr>\n",
       "    <tr>\n",
       "      <th>1</th>\n",
       "      <td>2</td>\n",
       "      <td>Jumanji (1995)</td>\n",
       "      <td>Adventure|Children|Fantasy</td>\n",
       "      <td>Jumanji</td>\n",
       "      <td>1995</td>\n",
       "      <td>[Adventure, Children, Fantasy]</td>\n",
       "      <td>[0, 0, 1, 0, 1, 0, 0, 0, 0, 1, 0, 0, 0, 0, 0, ...</td>\n",
       "      <td>0</td>\n",
       "      <td>0</td>\n",
       "      <td>1</td>\n",
       "      <td>...</td>\n",
       "      <td>0</td>\n",
       "      <td>0</td>\n",
       "      <td>0</td>\n",
       "      <td>0</td>\n",
       "      <td>0</td>\n",
       "      <td>0</td>\n",
       "      <td>0</td>\n",
       "      <td>0</td>\n",
       "      <td>0</td>\n",
       "      <td>[0.7745966692414834, 1.0000000000000002, 0.0, ...</td>\n",
       "    </tr>\n",
       "    <tr>\n",
       "      <th>2</th>\n",
       "      <td>3</td>\n",
       "      <td>Grumpier Old Men (1995)</td>\n",
       "      <td>Comedy|Romance</td>\n",
       "      <td>Grumpier Old Men</td>\n",
       "      <td>1995</td>\n",
       "      <td>[Comedy, Romance]</td>\n",
       "      <td>[0, 0, 0, 0, 0, 1, 0, 0, 0, 0, 0, 0, 0, 0, 0, ...</td>\n",
       "      <td>0</td>\n",
       "      <td>0</td>\n",
       "      <td>0</td>\n",
       "      <td>...</td>\n",
       "      <td>0</td>\n",
       "      <td>0</td>\n",
       "      <td>0</td>\n",
       "      <td>0</td>\n",
       "      <td>1</td>\n",
       "      <td>0</td>\n",
       "      <td>0</td>\n",
       "      <td>0</td>\n",
       "      <td>0</td>\n",
       "      <td>[0.31622776601683794, 0.0, 0.9999999999999998,...</td>\n",
       "    </tr>\n",
       "    <tr>\n",
       "      <th>3</th>\n",
       "      <td>4</td>\n",
       "      <td>Waiting to Exhale (1995)</td>\n",
       "      <td>Comedy|Drama|Romance</td>\n",
       "      <td>Waiting to Exhale</td>\n",
       "      <td>1995</td>\n",
       "      <td>[Comedy, Drama, Romance]</td>\n",
       "      <td>[0, 0, 0, 0, 0, 1, 0, 0, 1, 0, 0, 0, 0, 0, 0, ...</td>\n",
       "      <td>0</td>\n",
       "      <td>0</td>\n",
       "      <td>0</td>\n",
       "      <td>...</td>\n",
       "      <td>0</td>\n",
       "      <td>0</td>\n",
       "      <td>0</td>\n",
       "      <td>0</td>\n",
       "      <td>1</td>\n",
       "      <td>0</td>\n",
       "      <td>0</td>\n",
       "      <td>0</td>\n",
       "      <td>0</td>\n",
       "      <td>[0.2581988897471611, 0.0, 0.8164965809277259, ...</td>\n",
       "    </tr>\n",
       "    <tr>\n",
       "      <th>4</th>\n",
       "      <td>5</td>\n",
       "      <td>Father of the Bride Part II (1995)</td>\n",
       "      <td>Comedy</td>\n",
       "      <td>Father of the Bride Part II</td>\n",
       "      <td>1995</td>\n",
       "      <td>[Comedy]</td>\n",
       "      <td>[0, 0, 0, 0, 0, 1, 0, 0, 0, 0, 0, 0, 0, 0, 0, ...</td>\n",
       "      <td>0</td>\n",
       "      <td>0</td>\n",
       "      <td>0</td>\n",
       "      <td>...</td>\n",
       "      <td>0</td>\n",
       "      <td>0</td>\n",
       "      <td>0</td>\n",
       "      <td>0</td>\n",
       "      <td>0</td>\n",
       "      <td>0</td>\n",
       "      <td>0</td>\n",
       "      <td>0</td>\n",
       "      <td>0</td>\n",
       "      <td>[0.4472135954999579, 0.0, 0.7071067811865475, ...</td>\n",
       "    </tr>\n",
       "  </tbody>\n",
       "</table>\n",
       "<p>5 rows × 28 columns</p>\n",
       "</div>"
      ],
      "text/plain": [
       "   movieId                               title  \\\n",
       "0        1                    Toy Story (1995)   \n",
       "1        2                      Jumanji (1995)   \n",
       "2        3             Grumpier Old Men (1995)   \n",
       "3        4            Waiting to Exhale (1995)   \n",
       "4        5  Father of the Bride Part II (1995)   \n",
       "\n",
       "                                        genres                  movie_title  \\\n",
       "0  Adventure|Animation|Children|Comedy|Fantasy                    Toy Story   \n",
       "1                   Adventure|Children|Fantasy                      Jumanji   \n",
       "2                               Comedy|Romance             Grumpier Old Men   \n",
       "3                         Comedy|Drama|Romance            Waiting to Exhale   \n",
       "4                                       Comedy  Father of the Bride Part II   \n",
       "\n",
       "   year                                        genre_clean  \\\n",
       "0  1995  [Adventure, Animation, Children, Comedy, Fantasy]   \n",
       "1  1995                     [Adventure, Children, Fantasy]   \n",
       "2  1995                                  [Comedy, Romance]   \n",
       "3  1995                           [Comedy, Drama, Romance]   \n",
       "4  1995                                           [Comedy]   \n",
       "\n",
       "                              genre_one_hot_encoding  No_Genre  Action  \\\n",
       "0  [0, 0, 1, 1, 1, 1, 0, 0, 0, 1, 0, 0, 0, 0, 0, ...         0       0   \n",
       "1  [0, 0, 1, 0, 1, 0, 0, 0, 0, 1, 0, 0, 0, 0, 0, ...         0       0   \n",
       "2  [0, 0, 0, 0, 0, 1, 0, 0, 0, 0, 0, 0, 0, 0, 0, ...         0       0   \n",
       "3  [0, 0, 0, 0, 0, 1, 0, 0, 1, 0, 0, 0, 0, 0, 0, ...         0       0   \n",
       "4  [0, 0, 0, 0, 0, 1, 0, 0, 0, 0, 0, 0, 0, 0, 0, ...         0       0   \n",
       "\n",
       "   Adventure  ...  Horror  IMAX  Musical  Mystery  Romance  Sci-Fi  Thriller  \\\n",
       "0          1  ...       0     0        0        0        0       0         0   \n",
       "1          1  ...       0     0        0        0        0       0         0   \n",
       "2          0  ...       0     0        0        0        1       0         0   \n",
       "3          0  ...       0     0        0        0        1       0         0   \n",
       "4          0  ...       0     0        0        0        0       0         0   \n",
       "\n",
       "   War  Western                            genre_cosine_similarity  \n",
       "0    0        0  [0.9999999999999998, 0.7745966692414834, 0.316...  \n",
       "1    0        0  [0.7745966692414834, 1.0000000000000002, 0.0, ...  \n",
       "2    0        0  [0.31622776601683794, 0.0, 0.9999999999999998,...  \n",
       "3    0        0  [0.2581988897471611, 0.0, 0.8164965809277259, ...  \n",
       "4    0        0  [0.4472135954999579, 0.0, 0.7071067811865475, ...  \n",
       "\n",
       "[5 rows x 28 columns]"
      ]
     },
     "execution_count": 5,
     "metadata": {},
     "output_type": "execute_result"
    }
   ],
   "source": [
    "movie_data.head()"
   ]
  },
  {
   "cell_type": "markdown",
   "metadata": {},
   "source": [
    "### Find Similar Movies \n"
   ]
  },
  {
   "cell_type": "markdown",
   "metadata": {},
   "source": [
    "#### - String Similarity \n",
    "\n",
    "Find similar movies titles based on string similarity. "
   ]
  },
  {
   "cell_type": "code",
   "execution_count": 10,
   "metadata": {},
   "outputs": [
    {
     "name": "stdout",
     "output_type": "stream",
     "text": [
      "Top 5 matches for 'The Lion King':\n",
      " ['The Lion King', 'The Giant King', 'The Sun King', 'The Scorpion King', 'The Monkey King']\n"
     ]
    }
   ],
   "source": [
    "# Taking user input\n",
    "user_movie = 'The Lion King'\n",
    "# Listing all available movie titles\n",
    "titles = list(movie_data['movie_title'])\n",
    "# Specifying max number of close matches\n",
    "number_of_results = 5\n",
    "# Finding the most similar movies to the one input by the user\n",
    "similar_movies = difflib.get_close_matches(user_movie,titles,n=number_of_results, cutoff=0.5)\n",
    "print(f\"Top {number_of_results} matches for '{user_movie}':\\n\", similar_movies[:number_of_results]) "
   ]
  },
  {
   "cell_type": "markdown",
   "metadata": {},
   "source": [
    "#### - Cosine Similarity\n",
    "\n",
    "Find similar movies based on cosine similarity of movie genres. "
   ]
  },
  {
   "cell_type": "code",
   "execution_count": 14,
   "metadata": {},
   "outputs": [],
   "source": [
    "# Function to find movie_index based on movie_title\n",
    "def find_movie_index(movie_df, title):\n",
    "    movie_index = movie_df.loc[movie_df['movie_title'] == title].index\n",
    "    if len(movie_index) == 1:\n",
    "        return movie_index[0]\n",
    "    else:\n",
    "        return None\n",
    "\n",
    "# Function to find similar movies\n",
    "def find_similar_movies(movie_df, movie_title, num_similar_movies, similarity_matrix):\n",
    "    movie_index = find_movie_index(movie_df, movie_title)\n",
    "    # Get the similarity scores of the given movie with all other movies\n",
    "    similarity_scores = similarity_matrix[movie_index]\n",
    "    # Sort the similarity scores in descending order and get the indices of top N similar movies\n",
    "    similar_movie_indices = np.argsort(similarity_scores)[::-1][1:num_similar_movies+1]\n",
    "    # Get the similarity scores corresponding to the top N similar movies\n",
    "    similar_movie_scores = similarity_scores[similar_movie_indices]\n",
    "    return similar_movie_indices, similar_movie_scores\n"
   ]
  },
  {
   "cell_type": "code",
   "execution_count": 15,
   "metadata": {},
   "outputs": [
    {
     "name": "stdout",
     "output_type": "stream",
     "text": [
      "Top 100 Movies similar to: Jumanji \n",
      "\n",
      "Le petit poucet (Cosine Similarity Score: 1.00000)\n",
      "Pan (Cosine Similarity Score: 1.00000)\n",
      "Mama (Cosine Similarity Score: 1.00000)\n",
      "The Snow Queen (Cosine Similarity Score: 1.00000)\n",
      "Snow White: The Fairest of Them All (Cosine Similarity Score: 1.00000)\n",
      "Bridge to Terabithia (Cosine Similarity Score: 1.00000)\n",
      "Pete's Dragon (Cosine Similarity Score: 1.00000)\n",
      "Adventures in Dinosaur City (Cosine Similarity Score: 1.00000)\n",
      "Journey to the Beginning of Time (Cosine Similarity Score: 1.00000)\n",
      "Polar Bear King, The (Kvitebjørn Kong Valemon) (Cosine Similarity Score: 1.00000)\n",
      "Chronicles of Narnia: The Voyage of the Dawn Treader, The (Cosine Similarity Score: 1.00000)\n",
      "Trouble at Timpetill (Enfants de Timpelbach, Les) (Cosine Similarity Score: 1.00000)\n",
      "Friend of the Jolly Devil (Cosine Similarity Score: 1.00000)\n",
      "Alice in Wonderland (Cosine Similarity Score: 1.00000)\n",
      "Perri (Cosine Similarity Score: 1.00000)\n",
      "Journey to the Christmas Star (Cosine Similarity Score: 1.00000)\n",
      "Pojken med guldbyxorna (Cosine Similarity Score: 1.00000)\n",
      "Darby O'Gill and the Little People (Cosine Similarity Score: 1.00000)\n",
      "Up in the Sky (Cosine Similarity Score: 1.00000)\n",
      "Three Fat Men (Cosine Similarity Score: 1.00000)\n",
      "Golden Compass, The (Cosine Similarity Score: 1.00000)\n",
      "Water Horse: Legend of the Deep, The (Cosine Similarity Score: 1.00000)\n",
      "Prince Caspian and the Voyage of the Dawn Treader (Cosine Similarity Score: 1.00000)\n",
      "Percy Jackson: Sea of Monsters (Cosine Similarity Score: 1.00000)\n",
      "Gulliver's Travels (Cosine Similarity Score: 1.00000)\n",
      "Red, Honest, in Love (Cosine Similarity Score: 1.00000)\n",
      "Old Man Khottabych (Cosine Similarity Score: 1.00000)\n",
      "Chronicles of Narnia: The Lion, the Witch and the Wardrobe, The (Cosine Similarity Score: 1.00000)\n",
      "Escape to Witch Mountain (Cosine Similarity Score: 1.00000)\n",
      "Abulele (Cosine Similarity Score: 1.00000)\n",
      "Dumbo (Cosine Similarity Score: 1.00000)\n",
      "Cry Wilderness (Cosine Similarity Score: 1.00000)\n",
      "Veritas, Prince of Truth (Cosine Similarity Score: 1.00000)\n",
      "Jack and the Beanstalk (Cosine Similarity Score: 1.00000)\n",
      "Five Children and It (Cosine Similarity Score: 1.00000)\n",
      "Magic in the Water (Cosine Similarity Score: 1.00000)\n",
      "The Cave of the Golden Rose 5 (Cosine Similarity Score: 1.00000)\n",
      "Mee-Shee: The Water Giant (Cosine Similarity Score: 1.00000)\n",
      "Paws (Cosine Similarity Score: 1.00000)\n",
      "Brothers Lionheart, The (Bröderna Lejonhjärta) (Cosine Similarity Score: 1.00000)\n",
      "The Story of the Voyages (Cosine Similarity Score: 1.00000)\n",
      "Alice Through the Looking Glass (Cosine Similarity Score: 1.00000)\n",
      "The Silver Chair (Cosine Similarity Score: 1.00000)\n",
      "Pelicanman (Pelikaanimies) (Cosine Similarity Score: 1.00000)\n",
      "Kingdom of Crooked Mirrors (Cosine Similarity Score: 1.00000)\n",
      "Borrowers, The (Cosine Similarity Score: 1.00000)\n",
      "Return to Oz (Cosine Similarity Score: 1.00000)\n",
      "The Cave of the Golden Rose (Cosine Similarity Score: 1.00000)\n",
      "The Christmas Dragon (Cosine Similarity Score: 1.00000)\n",
      "NeverEnding Story II: The Next Chapter, The (Cosine Similarity Score: 1.00000)\n",
      "Jim Button and Luke the Engine Driver (Cosine Similarity Score: 1.00000)\n",
      "Harry Potter and the Sorcerer's Stone (a.k.a. Harry Potter and the Philosopher's Stone) (Cosine Similarity Score: 1.00000)\n",
      "Seventh Son (Cosine Similarity Score: 1.00000)\n",
      "About the Little Red Riding Hood (Cosine Similarity Score: 1.00000)\n",
      "Santa Claus: The Movie (Cosine Similarity Score: 1.00000)\n",
      "Indian in the Cupboard, The (Cosine Similarity Score: 1.00000)\n",
      "The Magic Cloak of Oz (Cosine Similarity Score: 1.00000)\n",
      "The Adventures of Buratino (Cosine Similarity Score: 1.00000)\n",
      "NeverEnding Story III, The (Cosine Similarity Score: 1.00000)\n",
      "Chronicles of Narnia: Prince Caspian, The (Cosine Similarity Score: 1.00000)\n",
      "Snow Queen (Cosine Similarity Score: 1.00000)\n",
      "Mother Goose Rock 'N Rhyme (Cosine Similarity Score: 1.00000)\n",
      "Little Ghost (Cosine Similarity Score: 1.00000)\n",
      "NeverEnding Story, The (Cosine Similarity Score: 1.00000)\n",
      "Jumanji (Cosine Similarity Score: 1.00000)\n",
      "Red Riding Hood (Cosine Similarity Score: 1.00000)\n",
      "The Chronicles of Narnia: The Lion, the Witch and the Wardrobe (Cosine Similarity Score: 1.00000)\n",
      "The Nutcracker and the Four Realms (Cosine Similarity Score: 1.00000)\n",
      "Escape to Witch Mountain (Cosine Similarity Score: 1.00000)\n",
      "Kirikou and the Sorceress (Kirikou et la sorcière) (Cosine Similarity Score: 0.86603)\n",
      "Hamtaro: The Captive Princess (Cosine Similarity Score: 0.86603)\n",
      "Return to Halloweentown (Cosine Similarity Score: 0.86603)\n",
      "The Adventures of Buratino (Cosine Similarity Score: 0.86603)\n",
      "The Blue Bird (Cosine Similarity Score: 0.86603)\n",
      "Space Buddies (Cosine Similarity Score: 0.86603)\n",
      "Vovka in the Kingdom of Far Far Away (Cosine Similarity Score: 0.86603)\n",
      "Atlantis: The Lost Empire (Cosine Similarity Score: 0.86603)\n",
      "MirrorMask (Cosine Similarity Score: 0.86603)\n",
      "The Fool of the World and the Flying Ship (Cosine Similarity Score: 0.86603)\n",
      "Cinderella and the Secret Prince (Cosine Similarity Score: 0.86603)\n",
      "The Gruffalo's Child (Cosine Similarity Score: 0.86603)\n",
      "We're Back! A Dinosaur's Story (Cosine Similarity Score: 0.86603)\n",
      "A Wrinkle in Time (Cosine Similarity Score: 0.86603)\n",
      "Dragon Nest: Warriors' Dawn (Cosine Similarity Score: 0.86603)\n",
      "The Shamer's Daughter (Cosine Similarity Score: 0.86603)\n",
      "Lemony Snicket's A Series of Unfortunate Events (Cosine Similarity Score: 0.86603)\n",
      "Cat Returns, The (Neko no ongaeshi) (Cosine Similarity Score: 0.86603)\n",
      "Asterix & Obelix vs. Caesar (Astérix et Obélix contre César) (Cosine Similarity Score: 0.86603)\n",
      "The Patchwork Girl of Oz (Cosine Similarity Score: 0.86603)\n",
      "The Tale of John and Marie (Cosine Similarity Score: 0.86603)\n",
      "Pachamama (Cosine Similarity Score: 0.86603)\n",
      "His Majesty, the Scarecrow of Oz (Cosine Similarity Score: 0.86603)\n",
      "Arthur 3: The War of the Two Worlds (Cosine Similarity Score: 0.86603)\n",
      "Son of the Mask (Cosine Similarity Score: 0.86603)\n",
      "The Land Before Time VII: The Stone of Cold Fire (Cosine Similarity Score: 0.86603)\n",
      "Adventures of Sharkboy and Lavagirl 3-D, The (Cosine Similarity Score: 0.86603)\n",
      "Once Upon a Forest (Cosine Similarity Score: 0.86603)\n",
      "Tall Tale (Cosine Similarity Score: 0.86603)\n",
      "New Adventures of Pippi Longstocking, The (Cosine Similarity Score: 0.86603)\n",
      "Warriors of Virtue (Cosine Similarity Score: 0.86603)\n"
     ]
    }
   ],
   "source": [
    "# Example usage:\n",
    "cosine_similarity_matrix = cosine_similarity\n",
    "movie_df = movie_data\n",
    "movie_titles = list(movie_data['movie_title'])\n",
    "\n",
    "# Specify title of movie for which to generate similar movie recommendations.\n",
    "movie_name = 'Jumanji'  \n",
    "# Specify number of similar movies to retrieve\n",
    "num_similar_movies = 100\n",
    "\n",
    "# Find similar movies\n",
    "similar_movie_indices, similar_movie_scores = find_similar_movies(movie_df, movie_name, num_similar_movies, cosine_similarity_matrix)\n",
    "\n",
    "# Return similar movie titles\n",
    "similar_movie_titles = [movie_titles[i] for i in similar_movie_indices]\n",
    "print(f'Top {num_similar_movies} Movies similar to:', movie_name, \"\\n\")\n",
    "for title, score in zip(similar_movie_titles, similar_movie_scores):\n",
    "    print(f\"{title} (Cosine Similarity Score: {score:.5f})\")"
   ]
  },
  {
   "cell_type": "markdown",
   "metadata": {},
   "source": [
    "## Collaborative Filtering\n",
    "\n",
    "Using the Collaborative Filtering approach, make personalized movie recommendations using user-movie ratings. Identiy similarities between users and/or items and use that information to predict how a user would rate or interact with a particular item. In user-based collaborative filering, find similar users to the target user and recommend items that similar users have interacted with."
   ]
  },
  {
   "cell_type": "markdown",
   "metadata": {},
   "source": [
    "### Data Cleaning"
   ]
  },
  {
   "cell_type": "markdown",
   "metadata": {},
   "source": [
    "#### \"movie_ratings\" dataset\n",
    "\n",
    "- Generate synthetic dataset, impute missing values with zeros.\n",
    "- Normalize data using MinMaxScaler, transforming each feature to a range between 0 and 1. \n",
    "- Calculate a user-based cosine similarity matrix."
   ]
  },
  {
   "cell_type": "code",
   "execution_count": 107,
   "metadata": {},
   "outputs": [
    {
     "name": "stdout",
     "output_type": "stream",
     "text": [
      "   userId    1    2    3    4    5    6    7    8    9  ...  62414  62415  \\\n",
      "1       1  2.5  0.0  5.0  2.5  2.0  4.0  5.0  2.0  2.5  ...    2.0    1.0   \n",
      "2       2  2.0  2.0  0.0  1.0  5.0  1.0  3.5  1.5  1.0  ...    1.0    4.5   \n",
      "3       3  4.0  4.0  1.0  1.5  3.0  2.0  2.5  3.5  0.0  ...    0.0    0.0   \n",
      "4       4  5.0  4.0  2.0  3.5  0.0  4.5  2.0  5.0  0.0  ...    0.0    4.5   \n",
      "5       5  5.0  2.5  1.0  0.0  2.5  3.0  3.5  0.0  1.5  ...    0.0    0.0   \n",
      "\n",
      "   62416  62417  62418  62419  62420  62421  62422  62423  \n",
      "1    2.0    0.0    0.0    2.0    4.0    3.0    0.0    5.0  \n",
      "2    0.0    1.0    5.0    0.0    4.0    4.0    1.5    1.0  \n",
      "3    0.0    3.0    1.0    1.5    1.0    0.0    1.0    2.0  \n",
      "4    0.0    4.0    2.5    4.5    5.0    3.0    1.5    2.5  \n",
      "5    3.5    2.0    0.0    2.5    5.0    0.0    4.5    3.5  \n",
      "\n",
      "[5 rows x 62424 columns]\n"
     ]
    }
   ],
   "source": [
    "# Generate a synthetic user ratings dataset\n",
    "\n",
    "# Number of users and movie items\n",
    "num_users = 200  \n",
    "num_items = 62423\n",
    "\n",
    "# Percentage of items to be rated by each user\n",
    "rating_percentage = 0.8\n",
    "\n",
    "# Generate random ratings between 1 and 5 (including halves) for each user and item\n",
    "ratings = np.random.choice([1.0, 1.5, 2.0, 2.5, 3.0, 3.5, 4.0, 4.5, 5.0], size=(num_users, num_items))\n",
    "\n",
    "# Create a mask to set 20% of the ratings as NaN (unrated)\n",
    "mask = np.random.choice([True, False], size=ratings.shape, p=[1 - rating_percentage, rating_percentage])\n",
    "\n",
    "# Set 20% of the ratings as NaN (unrated)\n",
    "ratings[mask] = np.nan\n",
    "\n",
    "# Convert the ratings array to a Pandas DataFrame\n",
    "user_ids = np.arange(1, num_users + 1)\n",
    "item_ids = np.arange(1, num_items + 1)\n",
    "\n",
    "ratings_df = pd.DataFrame(ratings, index=user_ids, columns=item_ids)\n",
    "\n",
    "# Fill NaN values with 0\n",
    "ratings_df.fillna(0, inplace=True)\n",
    "\n",
    "# Add a new column for 'userId'\n",
    "ratings_df.insert(0, 'userId', ratings_df.index)\n",
    "\n",
    "# Print the first few rows of the synthetic dataset\n",
    "print(ratings_df.head())"
   ]
  },
  {
   "cell_type": "code",
   "execution_count": 13,
   "metadata": {},
   "outputs": [
    {
     "name": "stdout",
     "output_type": "stream",
     "text": [
      "userId       1         2         3         4         5         6         7    \\\n",
      "userId                                                                         \n",
      "1       0.000000  0.675396  0.674362  0.673250  0.672850  0.675550  0.673454   \n",
      "2       0.675396  0.000000  0.673769  0.672518  0.672149  0.673307  0.670982   \n",
      "3       0.674362  0.673769  0.000000  0.676431  0.672589  0.675269  0.675806   \n",
      "4       0.673250  0.672518  0.676431  0.000000  0.670797  0.672070  0.672855   \n",
      "5       0.672850  0.672149  0.672589  0.670797  0.000000  0.669358  0.670766   \n",
      "\n",
      "userId       8         9         10   ...       191       192       193  \\\n",
      "userId                                ...                                 \n",
      "1       0.673895  0.674458  0.676198  ...  0.677923  0.674785  0.671697   \n",
      "2       0.672861  0.672836  0.675598  ...  0.677222  0.677008  0.671633   \n",
      "3       0.670248  0.675458  0.676720  ...  0.678328  0.678613  0.674585   \n",
      "4       0.673669  0.673289  0.674550  ...  0.676481  0.673545  0.672877   \n",
      "5       0.672618  0.672120  0.673355  ...  0.673512  0.673677  0.672733   \n",
      "\n",
      "userId       194       195       196       197       198       199       200  \n",
      "userId                                                                        \n",
      "1       0.672883  0.673208  0.674038  0.675202  0.672351  0.676789  0.677301  \n",
      "2       0.676958  0.672341  0.676967  0.673298  0.675069  0.675079  0.674133  \n",
      "3       0.676381  0.673586  0.677600  0.674200  0.673957  0.675024  0.674568  \n",
      "4       0.674431  0.672421  0.674740  0.672154  0.674458  0.672185  0.674527  \n",
      "5       0.675522  0.671578  0.674493  0.672681  0.671866  0.673621  0.675268  \n",
      "\n",
      "[5 rows x 200 columns]\n"
     ]
    }
   ],
   "source": [
    "# Normalize the ratings using Min-Max scaling\n",
    "scaler = MinMaxScaler()\n",
    "normalized_ratings = scaler.fit_transform(ratings_df.iloc[:, 1:])  # Exclude the 'userId' column\n",
    "\n",
    "# Convert the normalized ratings back to a DataFrame\n",
    "normalized_ratings_df = pd.DataFrame(normalized_ratings, index=ratings_df.index, columns=ratings_df.columns[1:])\n",
    "\n",
    "# Calculate the cosine similarity between the users\n",
    "ratings_cosine_similarity_matrix = cosine_similarity(normalized_ratings_df)\n",
    "\n",
    "# Fill the diagonal elements with zeros (optional)\n",
    "np.fill_diagonal(ratings_cosine_similarity_matrix, 0)\n",
    "\n",
    "# Create a DataFrame to store the cosine similarity matrix with 'userId' as index and columns\n",
    "ratings_cosine_similarity_df = pd.DataFrame(ratings_cosine_similarity_matrix, index=ratings_df['userId'], columns=ratings_df['userId'])\n",
    "\n",
    "# Print the first few rows of the cosine similarity matrix\n",
    "print(ratings_cosine_similarity_df.head())\n",
    "\n"
   ]
  },
  {
   "cell_type": "markdown",
   "metadata": {},
   "source": [
    "### Personalized Movie Recommendations\n",
    "\n",
    "Use cosine similarity to find similar users to target user, isolate the movies the target user has not yet rated, and predict a rating based on similar user ratings on unrated movies. Sort and recommend those movies to the target user."
   ]
  },
  {
   "cell_type": "code",
   "execution_count": 61,
   "metadata": {},
   "outputs": [],
   "source": [
    "# Function to perform User-based Collaborative Filtering\n",
    "def user_based_collaborative_filtering(user_id, cosine_similarity_matrix, ratings_df, movie_data, num_recommendations=5):\n",
    "    # Get the similarity scores of the target user with all other users\n",
    "    similarity_scores = cosine_similarity_matrix.loc[user_id]\n",
    "    # Find similar users by sorting similarity scores in descending order\n",
    "    similar_users = similarity_scores.sort_values(ascending=False)\n",
    "    # Get the top similar_users_count similar users (excluding the target user)\n",
    "    similar_users = similar_users.drop(index=user_id)\n",
    "    # Get the ratings of the target user\n",
    "    target_user_ratings = ratings_df.loc[user_id]\n",
    "    # Find items the target user has not rated (NaN/zero-values)\n",
    "    unrated_items = target_user_ratings[target_user_ratings == 0].index\n",
    "    # Get the average ratings of similar users for the unrated items\n",
    "    predicted_ratings = ratings_df.loc[similar_users.index, unrated_items].mean()\n",
    "    # Sort the predicted ratings in descending order to get recommended items\n",
    "    recommended_items = predicted_ratings.sort_values(ascending=False).head(num_recommendations)\n",
    "    # Map recommended items to movie_data['movieId'] and return movie_data['movie_title']\n",
    "    recommended_movie_titles = movie_data.loc[recommended_items.index]['title']\n",
    "\n",
    "    return recommended_movie_titles\n",
    "\n"
   ]
  },
  {
   "cell_type": "code",
   "execution_count": 62,
   "metadata": {},
   "outputs": [
    {
     "name": "stdout",
     "output_type": "stream",
     "text": [
      "Recommended movies for User 1:\n",
      " 20952              American Scary (2006)\n",
      "5686     Escanaba in da Moonlight (2001)\n",
      "42116                      Stella (1950)\n",
      "41323          Alias John Preston (1955)\n",
      "58583     The Uncomfortable Truth (2018)\n",
      "30920                 3 of a Kind (2012)\n",
      "47923      A Wolf from Vesyegonsk (2004)\n",
      "54875                   Manmadhan (2004)\n",
      "23584              Chantilly Lace (1993)\n",
      "32577               Flight Angels (1940)\n",
      "Name: title, dtype: object\n"
     ]
    }
   ],
   "source": [
    "# Example usage:\n",
    "cosine_similarity_df = ratings_cosine_similarity_df\n",
    "ratings_df = ratings_df\n",
    "movie_data = movie_data\n",
    "\n",
    "# Specify target userId\n",
    "target_user = 1  \n",
    "# Specify number of movie recommendations to provide\n",
    "num_recommendations = 10  \n",
    "\n",
    "recommended_items = user_based_collaborative_filtering(target_user, cosine_similarity_df, ratings_df, movie_data, num_recommendations)\n",
    "print(f\"Recommended movies for User {target_user}:\\n\", recommended_items)\n"
   ]
  },
  {
   "cell_type": "code",
   "execution_count": 115,
   "metadata": {},
   "outputs": [
    {
     "name": "stdout",
     "output_type": "stream",
     "text": [
      "Number of Rows showing Positive Skew: 8\n",
      "Number of Rows showing Negative Skew: 168\n"
     ]
    }
   ],
   "source": [
    "# Transform ratings dataset from wide form to long form \n",
    "long_data = pd.melt(ratings_df, id_vars=['userId'], var_name='movieId', value_name='rating')\n",
    "\n",
    "# Calculate mean and median movie ratings\n",
    "movie_ratings_mean = pd.DataFrame(long_data.groupby('movieId')['rating'].mean()).reset_index()\n",
    "movie_ratings_median = pd.DataFrame(long_data.groupby('movieId')['rating'].median()).reset_index()\n",
    "\n",
    "# Add median movie ratings to movie_data dataset\n",
    "movie_data_df = movie_data\n",
    "movie_data_df['median_ratings'] = movie_ratings_median['rating']\n",
    "movie_data_df['mean_ratings'] = movie_ratings_mean['rating']\n",
    "\n",
    "# Check for skew\n",
    "movie_data_df['rating_diff'] = movie_data_df['mean_ratings'] - movie_data_df['median_ratings']\n",
    "# Positive skew\n",
    "p_skew_movie_data_df = movie_data_df[movie_data_df['rating_diff'] >= .5]\n",
    "print(\"Number of Rows showing Positive Skew:\", len(p_skew_movie_data_df))\n",
    "# Negative skew\n",
    "n_skew_movie_data_df = movie_data_df[movie_data_df['rating_diff'] <= -.5]\n",
    "print(\"Number of Rows showing Negative Skew:\", len(n_skew_movie_data_df))\n"
   ]
  },
  {
   "cell_type": "code",
   "execution_count": 128,
   "metadata": {},
   "outputs": [],
   "source": [
    "# Isolate User-Based Movie Recommendations\n",
    "movie_data_df_results = movie_data_df[movie_data_df['title'].isin(recommended_items)]\n"
   ]
  },
  {
   "cell_type": "code",
   "execution_count": 126,
   "metadata": {},
   "outputs": [
    {
     "data": {
      "application/vnd.plotly.v1+json": {
       "config": {
        "plotlyServerURL": "https://plot.ly"
       },
       "data": [
        {
         "customdata": [
          [
           "Escanaba in da Moonlight (2001)"
          ],
          [
           "American Scary (2006)"
          ],
          [
           "Chantilly Lace (1993)"
          ],
          [
           "3 of a Kind (2012)"
          ],
          [
           "Flight Angels (1940)"
          ],
          [
           "Alias John Preston (1955)"
          ],
          [
           "Stella (1950)"
          ],
          [
           "A Wolf from Vesyegonsk (2004)"
          ],
          [
           "Manmadhan (2004)"
          ],
          [
           "The Uncomfortable Truth (2018)"
          ]
         ],
         "hovertemplate": "Movie ID=%{x}<br>Movie Rating=%{y}<br>Movie Title=%{customdata[0]}<extra></extra>",
         "legendgroup": "",
         "marker": {
          "color": "#636efa",
          "symbol": "circle"
         },
         "mode": "markers+text",
         "name": "",
         "orientation": "v",
         "showlegend": false,
         "text": [
          "Escanaba in da Moonlight (2001)",
          "American Scary (2006)",
          "Chantilly Lace (1993)",
          "3 of a Kind (2012)",
          "Flight Angels (1940)",
          "Alias John Preston (1955)",
          "Stella (1950)",
          "A Wolf from Vesyegonsk (2004)",
          "Manmadhan (2004)",
          "The Uncomfortable Truth (2018)"
         ],
         "textposition": "top center",
         "texttemplate": "",
         "type": "scatter",
         "x": [
          5798,
          108316,
          118574,
          137329,
          141264,
          161422,
          163160,
          175599,
          190579,
          198917
         ],
         "xaxis": "x",
         "y": [
          2.6,
          2.3675,
          2.505,
          2.535,
          2.4875,
          2.4575,
          2.6325,
          2.3925,
          2.4375,
          2.4175
         ],
         "yaxis": "y"
        }
       ],
       "layout": {
        "legend": {
         "tracegroupgap": 0
        },
        "template": {
         "data": {
          "bar": [
           {
            "error_x": {
             "color": "#2a3f5f"
            },
            "error_y": {
             "color": "#2a3f5f"
            },
            "marker": {
             "line": {
              "color": "#E5ECF6",
              "width": 0.5
             },
             "pattern": {
              "fillmode": "overlay",
              "size": 10,
              "solidity": 0.2
             }
            },
            "type": "bar"
           }
          ],
          "barpolar": [
           {
            "marker": {
             "line": {
              "color": "#E5ECF6",
              "width": 0.5
             },
             "pattern": {
              "fillmode": "overlay",
              "size": 10,
              "solidity": 0.2
             }
            },
            "type": "barpolar"
           }
          ],
          "carpet": [
           {
            "aaxis": {
             "endlinecolor": "#2a3f5f",
             "gridcolor": "white",
             "linecolor": "white",
             "minorgridcolor": "white",
             "startlinecolor": "#2a3f5f"
            },
            "baxis": {
             "endlinecolor": "#2a3f5f",
             "gridcolor": "white",
             "linecolor": "white",
             "minorgridcolor": "white",
             "startlinecolor": "#2a3f5f"
            },
            "type": "carpet"
           }
          ],
          "choropleth": [
           {
            "colorbar": {
             "outlinewidth": 0,
             "ticks": ""
            },
            "type": "choropleth"
           }
          ],
          "contour": [
           {
            "colorbar": {
             "outlinewidth": 0,
             "ticks": ""
            },
            "colorscale": [
             [
              0,
              "#0d0887"
             ],
             [
              0.1111111111111111,
              "#46039f"
             ],
             [
              0.2222222222222222,
              "#7201a8"
             ],
             [
              0.3333333333333333,
              "#9c179e"
             ],
             [
              0.4444444444444444,
              "#bd3786"
             ],
             [
              0.5555555555555556,
              "#d8576b"
             ],
             [
              0.6666666666666666,
              "#ed7953"
             ],
             [
              0.7777777777777778,
              "#fb9f3a"
             ],
             [
              0.8888888888888888,
              "#fdca26"
             ],
             [
              1,
              "#f0f921"
             ]
            ],
            "type": "contour"
           }
          ],
          "contourcarpet": [
           {
            "colorbar": {
             "outlinewidth": 0,
             "ticks": ""
            },
            "type": "contourcarpet"
           }
          ],
          "heatmap": [
           {
            "colorbar": {
             "outlinewidth": 0,
             "ticks": ""
            },
            "colorscale": [
             [
              0,
              "#0d0887"
             ],
             [
              0.1111111111111111,
              "#46039f"
             ],
             [
              0.2222222222222222,
              "#7201a8"
             ],
             [
              0.3333333333333333,
              "#9c179e"
             ],
             [
              0.4444444444444444,
              "#bd3786"
             ],
             [
              0.5555555555555556,
              "#d8576b"
             ],
             [
              0.6666666666666666,
              "#ed7953"
             ],
             [
              0.7777777777777778,
              "#fb9f3a"
             ],
             [
              0.8888888888888888,
              "#fdca26"
             ],
             [
              1,
              "#f0f921"
             ]
            ],
            "type": "heatmap"
           }
          ],
          "heatmapgl": [
           {
            "colorbar": {
             "outlinewidth": 0,
             "ticks": ""
            },
            "colorscale": [
             [
              0,
              "#0d0887"
             ],
             [
              0.1111111111111111,
              "#46039f"
             ],
             [
              0.2222222222222222,
              "#7201a8"
             ],
             [
              0.3333333333333333,
              "#9c179e"
             ],
             [
              0.4444444444444444,
              "#bd3786"
             ],
             [
              0.5555555555555556,
              "#d8576b"
             ],
             [
              0.6666666666666666,
              "#ed7953"
             ],
             [
              0.7777777777777778,
              "#fb9f3a"
             ],
             [
              0.8888888888888888,
              "#fdca26"
             ],
             [
              1,
              "#f0f921"
             ]
            ],
            "type": "heatmapgl"
           }
          ],
          "histogram": [
           {
            "marker": {
             "pattern": {
              "fillmode": "overlay",
              "size": 10,
              "solidity": 0.2
             }
            },
            "type": "histogram"
           }
          ],
          "histogram2d": [
           {
            "colorbar": {
             "outlinewidth": 0,
             "ticks": ""
            },
            "colorscale": [
             [
              0,
              "#0d0887"
             ],
             [
              0.1111111111111111,
              "#46039f"
             ],
             [
              0.2222222222222222,
              "#7201a8"
             ],
             [
              0.3333333333333333,
              "#9c179e"
             ],
             [
              0.4444444444444444,
              "#bd3786"
             ],
             [
              0.5555555555555556,
              "#d8576b"
             ],
             [
              0.6666666666666666,
              "#ed7953"
             ],
             [
              0.7777777777777778,
              "#fb9f3a"
             ],
             [
              0.8888888888888888,
              "#fdca26"
             ],
             [
              1,
              "#f0f921"
             ]
            ],
            "type": "histogram2d"
           }
          ],
          "histogram2dcontour": [
           {
            "colorbar": {
             "outlinewidth": 0,
             "ticks": ""
            },
            "colorscale": [
             [
              0,
              "#0d0887"
             ],
             [
              0.1111111111111111,
              "#46039f"
             ],
             [
              0.2222222222222222,
              "#7201a8"
             ],
             [
              0.3333333333333333,
              "#9c179e"
             ],
             [
              0.4444444444444444,
              "#bd3786"
             ],
             [
              0.5555555555555556,
              "#d8576b"
             ],
             [
              0.6666666666666666,
              "#ed7953"
             ],
             [
              0.7777777777777778,
              "#fb9f3a"
             ],
             [
              0.8888888888888888,
              "#fdca26"
             ],
             [
              1,
              "#f0f921"
             ]
            ],
            "type": "histogram2dcontour"
           }
          ],
          "mesh3d": [
           {
            "colorbar": {
             "outlinewidth": 0,
             "ticks": ""
            },
            "type": "mesh3d"
           }
          ],
          "parcoords": [
           {
            "line": {
             "colorbar": {
              "outlinewidth": 0,
              "ticks": ""
             }
            },
            "type": "parcoords"
           }
          ],
          "pie": [
           {
            "automargin": true,
            "type": "pie"
           }
          ],
          "scatter": [
           {
            "fillpattern": {
             "fillmode": "overlay",
             "size": 10,
             "solidity": 0.2
            },
            "type": "scatter"
           }
          ],
          "scatter3d": [
           {
            "line": {
             "colorbar": {
              "outlinewidth": 0,
              "ticks": ""
             }
            },
            "marker": {
             "colorbar": {
              "outlinewidth": 0,
              "ticks": ""
             }
            },
            "type": "scatter3d"
           }
          ],
          "scattercarpet": [
           {
            "marker": {
             "colorbar": {
              "outlinewidth": 0,
              "ticks": ""
             }
            },
            "type": "scattercarpet"
           }
          ],
          "scattergeo": [
           {
            "marker": {
             "colorbar": {
              "outlinewidth": 0,
              "ticks": ""
             }
            },
            "type": "scattergeo"
           }
          ],
          "scattergl": [
           {
            "marker": {
             "colorbar": {
              "outlinewidth": 0,
              "ticks": ""
             }
            },
            "type": "scattergl"
           }
          ],
          "scattermapbox": [
           {
            "marker": {
             "colorbar": {
              "outlinewidth": 0,
              "ticks": ""
             }
            },
            "type": "scattermapbox"
           }
          ],
          "scatterpolar": [
           {
            "marker": {
             "colorbar": {
              "outlinewidth": 0,
              "ticks": ""
             }
            },
            "type": "scatterpolar"
           }
          ],
          "scatterpolargl": [
           {
            "marker": {
             "colorbar": {
              "outlinewidth": 0,
              "ticks": ""
             }
            },
            "type": "scatterpolargl"
           }
          ],
          "scatterternary": [
           {
            "marker": {
             "colorbar": {
              "outlinewidth": 0,
              "ticks": ""
             }
            },
            "type": "scatterternary"
           }
          ],
          "surface": [
           {
            "colorbar": {
             "outlinewidth": 0,
             "ticks": ""
            },
            "colorscale": [
             [
              0,
              "#0d0887"
             ],
             [
              0.1111111111111111,
              "#46039f"
             ],
             [
              0.2222222222222222,
              "#7201a8"
             ],
             [
              0.3333333333333333,
              "#9c179e"
             ],
             [
              0.4444444444444444,
              "#bd3786"
             ],
             [
              0.5555555555555556,
              "#d8576b"
             ],
             [
              0.6666666666666666,
              "#ed7953"
             ],
             [
              0.7777777777777778,
              "#fb9f3a"
             ],
             [
              0.8888888888888888,
              "#fdca26"
             ],
             [
              1,
              "#f0f921"
             ]
            ],
            "type": "surface"
           }
          ],
          "table": [
           {
            "cells": {
             "fill": {
              "color": "#EBF0F8"
             },
             "line": {
              "color": "white"
             }
            },
            "header": {
             "fill": {
              "color": "#C8D4E3"
             },
             "line": {
              "color": "white"
             }
            },
            "type": "table"
           }
          ]
         },
         "layout": {
          "annotationdefaults": {
           "arrowcolor": "#2a3f5f",
           "arrowhead": 0,
           "arrowwidth": 1
          },
          "autotypenumbers": "strict",
          "coloraxis": {
           "colorbar": {
            "outlinewidth": 0,
            "ticks": ""
           }
          },
          "colorscale": {
           "diverging": [
            [
             0,
             "#8e0152"
            ],
            [
             0.1,
             "#c51b7d"
            ],
            [
             0.2,
             "#de77ae"
            ],
            [
             0.3,
             "#f1b6da"
            ],
            [
             0.4,
             "#fde0ef"
            ],
            [
             0.5,
             "#f7f7f7"
            ],
            [
             0.6,
             "#e6f5d0"
            ],
            [
             0.7,
             "#b8e186"
            ],
            [
             0.8,
             "#7fbc41"
            ],
            [
             0.9,
             "#4d9221"
            ],
            [
             1,
             "#276419"
            ]
           ],
           "sequential": [
            [
             0,
             "#0d0887"
            ],
            [
             0.1111111111111111,
             "#46039f"
            ],
            [
             0.2222222222222222,
             "#7201a8"
            ],
            [
             0.3333333333333333,
             "#9c179e"
            ],
            [
             0.4444444444444444,
             "#bd3786"
            ],
            [
             0.5555555555555556,
             "#d8576b"
            ],
            [
             0.6666666666666666,
             "#ed7953"
            ],
            [
             0.7777777777777778,
             "#fb9f3a"
            ],
            [
             0.8888888888888888,
             "#fdca26"
            ],
            [
             1,
             "#f0f921"
            ]
           ],
           "sequentialminus": [
            [
             0,
             "#0d0887"
            ],
            [
             0.1111111111111111,
             "#46039f"
            ],
            [
             0.2222222222222222,
             "#7201a8"
            ],
            [
             0.3333333333333333,
             "#9c179e"
            ],
            [
             0.4444444444444444,
             "#bd3786"
            ],
            [
             0.5555555555555556,
             "#d8576b"
            ],
            [
             0.6666666666666666,
             "#ed7953"
            ],
            [
             0.7777777777777778,
             "#fb9f3a"
            ],
            [
             0.8888888888888888,
             "#fdca26"
            ],
            [
             1,
             "#f0f921"
            ]
           ]
          },
          "colorway": [
           "#636efa",
           "#EF553B",
           "#00cc96",
           "#ab63fa",
           "#FFA15A",
           "#19d3f3",
           "#FF6692",
           "#B6E880",
           "#FF97FF",
           "#FECB52"
          ],
          "font": {
           "color": "#2a3f5f"
          },
          "geo": {
           "bgcolor": "white",
           "lakecolor": "white",
           "landcolor": "#E5ECF6",
           "showlakes": true,
           "showland": true,
           "subunitcolor": "white"
          },
          "hoverlabel": {
           "align": "left"
          },
          "hovermode": "closest",
          "mapbox": {
           "style": "light"
          },
          "paper_bgcolor": "white",
          "plot_bgcolor": "#E5ECF6",
          "polar": {
           "angularaxis": {
            "gridcolor": "white",
            "linecolor": "white",
            "ticks": ""
           },
           "bgcolor": "#E5ECF6",
           "radialaxis": {
            "gridcolor": "white",
            "linecolor": "white",
            "ticks": ""
           }
          },
          "scene": {
           "xaxis": {
            "backgroundcolor": "#E5ECF6",
            "gridcolor": "white",
            "gridwidth": 2,
            "linecolor": "white",
            "showbackground": true,
            "ticks": "",
            "zerolinecolor": "white"
           },
           "yaxis": {
            "backgroundcolor": "#E5ECF6",
            "gridcolor": "white",
            "gridwidth": 2,
            "linecolor": "white",
            "showbackground": true,
            "ticks": "",
            "zerolinecolor": "white"
           },
           "zaxis": {
            "backgroundcolor": "#E5ECF6",
            "gridcolor": "white",
            "gridwidth": 2,
            "linecolor": "white",
            "showbackground": true,
            "ticks": "",
            "zerolinecolor": "white"
           }
          },
          "shapedefaults": {
           "line": {
            "color": "#2a3f5f"
           }
          },
          "ternary": {
           "aaxis": {
            "gridcolor": "white",
            "linecolor": "white",
            "ticks": ""
           },
           "baxis": {
            "gridcolor": "white",
            "linecolor": "white",
            "ticks": ""
           },
           "bgcolor": "#E5ECF6",
           "caxis": {
            "gridcolor": "white",
            "linecolor": "white",
            "ticks": ""
           }
          },
          "title": {
           "x": 0.05
          },
          "xaxis": {
           "automargin": true,
           "gridcolor": "white",
           "linecolor": "white",
           "ticks": "",
           "title": {
            "standoff": 15
           },
           "zerolinecolor": "white",
           "zerolinewidth": 2
          },
          "yaxis": {
           "automargin": true,
           "gridcolor": "white",
           "linecolor": "white",
           "ticks": "",
           "title": {
            "standoff": 15
           },
           "zerolinecolor": "white",
           "zerolinewidth": 2
          }
         }
        },
        "title": {
         "text": "Personalized Movie Recommendations for User 1"
        },
        "xaxis": {
         "anchor": "y",
         "domain": [
          0,
          1
         ],
         "title": {
          "text": "Movie ID"
         }
        },
        "yaxis": {
         "anchor": "x",
         "domain": [
          0,
          1
         ],
         "title": {
          "text": "Movie Rating"
         }
        }
       }
      }
     },
     "metadata": {},
     "output_type": "display_data"
    },
    {
     "data": {
      "text/plain": [
       "<Figure size 1000x600 with 0 Axes>"
      ]
     },
     "metadata": {},
     "output_type": "display_data"
    }
   ],
   "source": [
    "\n",
    "# Plot the mean ratings as a bar plot\n",
    "plt.figure(figsize=(10, 6))\n",
    "# Create an interactive scatter plot using plotly\n",
    "fig = px.scatter(movie_data_df_results, x='movieId', y='mean_ratings', text='title',\n",
    "                 labels={'movieId': 'Movie ID', 'mean_ratings': 'Movie Rating', 'title': 'Movie Title'},\n",
    "                 title=f'Personalized Movie Recommendations for User {target_user}',\n",
    "                 hover_data=['title'])  # Include 'movie_title' in hover labels\n",
    "\n",
    "# Show hover labels only when the mouse hovers over the data points\n",
    "fig.update_traces(textposition='top center',texttemplate='')\n",
    "\n",
    "# Show the plot\n",
    "fig.show()"
   ]
  },
  {
   "cell_type": "code",
   "execution_count": 12,
   "metadata": {},
   "outputs": [
    {
     "data": {
      "image/png": "[encoded data removed]",
      "text/plain": [
       "<IPython.core.display.Image object>"
      ]
     },
     "metadata": {},
     "output_type": "display_data"
    }
   ],
   "source": [
    "display(Image(filename='https://github.com/kariemoorman/didactic-diy/blob/main/tutorials/recommendation/images/img_1.png'))"
   ]
  },
  {
   "cell_type": "code",
   "execution_count": 127,
   "metadata": {},
   "outputs": [
    {
     "data": {
      "application/vnd.plotly.v1+json": {
       "config": {
        "plotlyServerURL": "https://plot.ly"
       },
       "data": [
        {
         "hovertemplate": "<b>Movie Title</b>: %{text}<br><b>Movie ID</b>: %{x}<br><b>Movie Rating</b>: %{y}<extra></extra>",
         "marker": {
          "color": "blue",
          "line": {
           "color": "DarkSlateGrey",
           "width": 1
          },
          "opacity": 0.7,
          "size": 10
         },
         "mode": "markers",
         "text": [
          "Escanaba in da Moonlight (2001)",
          "American Scary (2006)",
          "Chantilly Lace (1993)",
          "3 of a Kind (2012)",
          "Flight Angels (1940)",
          "Alias John Preston (1955)",
          "Stella (1950)",
          "A Wolf from Vesyegonsk (2004)",
          "Manmadhan (2004)",
          "The Uncomfortable Truth (2018)"
         ],
         "type": "scatter",
         "x": [
          5798,
          108316,
          118574,
          137329,
          141264,
          161422,
          163160,
          175599,
          190579,
          198917
         ],
         "y": [
          2.6,
          2.3675,
          2.505,
          2.535,
          2.4875,
          2.4575,
          2.6325,
          2.3925,
          2.4375,
          2.4175
         ]
        }
       ],
       "layout": {
        "template": {
         "data": {
          "bar": [
           {
            "error_x": {
             "color": "#2a3f5f"
            },
            "error_y": {
             "color": "#2a3f5f"
            },
            "marker": {
             "line": {
              "color": "#E5ECF6",
              "width": 0.5
             },
             "pattern": {
              "fillmode": "overlay",
              "size": 10,
              "solidity": 0.2
             }
            },
            "type": "bar"
           }
          ],
          "barpolar": [
           {
            "marker": {
             "line": {
              "color": "#E5ECF6",
              "width": 0.5
             },
             "pattern": {
              "fillmode": "overlay",
              "size": 10,
              "solidity": 0.2
             }
            },
            "type": "barpolar"
           }
          ],
          "carpet": [
           {
            "aaxis": {
             "endlinecolor": "#2a3f5f",
             "gridcolor": "white",
             "linecolor": "white",
             "minorgridcolor": "white",
             "startlinecolor": "#2a3f5f"
            },
            "baxis": {
             "endlinecolor": "#2a3f5f",
             "gridcolor": "white",
             "linecolor": "white",
             "minorgridcolor": "white",
             "startlinecolor": "#2a3f5f"
            },
            "type": "carpet"
           }
          ],
          "choropleth": [
           {
            "colorbar": {
             "outlinewidth": 0,
             "ticks": ""
            },
            "type": "choropleth"
           }
          ],
          "contour": [
           {
            "colorbar": {
             "outlinewidth": 0,
             "ticks": ""
            },
            "colorscale": [
             [
              0,
              "#0d0887"
             ],
             [
              0.1111111111111111,
              "#46039f"
             ],
             [
              0.2222222222222222,
              "#7201a8"
             ],
             [
              0.3333333333333333,
              "#9c179e"
             ],
             [
              0.4444444444444444,
              "#bd3786"
             ],
             [
              0.5555555555555556,
              "#d8576b"
             ],
             [
              0.6666666666666666,
              "#ed7953"
             ],
             [
              0.7777777777777778,
              "#fb9f3a"
             ],
             [
              0.8888888888888888,
              "#fdca26"
             ],
             [
              1,
              "#f0f921"
             ]
            ],
            "type": "contour"
           }
          ],
          "contourcarpet": [
           {
            "colorbar": {
             "outlinewidth": 0,
             "ticks": ""
            },
            "type": "contourcarpet"
           }
          ],
          "heatmap": [
           {
            "colorbar": {
             "outlinewidth": 0,
             "ticks": ""
            },
            "colorscale": [
             [
              0,
              "#0d0887"
             ],
             [
              0.1111111111111111,
              "#46039f"
             ],
             [
              0.2222222222222222,
              "#7201a8"
             ],
             [
              0.3333333333333333,
              "#9c179e"
             ],
             [
              0.4444444444444444,
              "#bd3786"
             ],
             [
              0.5555555555555556,
              "#d8576b"
             ],
             [
              0.6666666666666666,
              "#ed7953"
             ],
             [
              0.7777777777777778,
              "#fb9f3a"
             ],
             [
              0.8888888888888888,
              "#fdca26"
             ],
             [
              1,
              "#f0f921"
             ]
            ],
            "type": "heatmap"
           }
          ],
          "heatmapgl": [
           {
            "colorbar": {
             "outlinewidth": 0,
             "ticks": ""
            },
            "colorscale": [
             [
              0,
              "#0d0887"
             ],
             [
              0.1111111111111111,
              "#46039f"
             ],
             [
              0.2222222222222222,
              "#7201a8"
             ],
             [
              0.3333333333333333,
              "#9c179e"
             ],
             [
              0.4444444444444444,
              "#bd3786"
             ],
             [
              0.5555555555555556,
              "#d8576b"
             ],
             [
              0.6666666666666666,
              "#ed7953"
             ],
             [
              0.7777777777777778,
              "#fb9f3a"
             ],
             [
              0.8888888888888888,
              "#fdca26"
             ],
             [
              1,
              "#f0f921"
             ]
            ],
            "type": "heatmapgl"
           }
          ],
          "histogram": [
           {
            "marker": {
             "pattern": {
              "fillmode": "overlay",
              "size": 10,
              "solidity": 0.2
             }
            },
            "type": "histogram"
           }
          ],
          "histogram2d": [
           {
            "colorbar": {
             "outlinewidth": 0,
             "ticks": ""
            },
            "colorscale": [
             [
              0,
              "#0d0887"
             ],
             [
              0.1111111111111111,
              "#46039f"
             ],
             [
              0.2222222222222222,
              "#7201a8"
             ],
             [
              0.3333333333333333,
              "#9c179e"
             ],
             [
              0.4444444444444444,
              "#bd3786"
             ],
             [
              0.5555555555555556,
              "#d8576b"
             ],
             [
              0.6666666666666666,
              "#ed7953"
             ],
             [
              0.7777777777777778,
              "#fb9f3a"
             ],
             [
              0.8888888888888888,
              "#fdca26"
             ],
             [
              1,
              "#f0f921"
             ]
            ],
            "type": "histogram2d"
           }
          ],
          "histogram2dcontour": [
           {
            "colorbar": {
             "outlinewidth": 0,
             "ticks": ""
            },
            "colorscale": [
             [
              0,
              "#0d0887"
             ],
             [
              0.1111111111111111,
              "#46039f"
             ],
             [
              0.2222222222222222,
              "#7201a8"
             ],
             [
              0.3333333333333333,
              "#9c179e"
             ],
             [
              0.4444444444444444,
              "#bd3786"
             ],
             [
              0.5555555555555556,
              "#d8576b"
             ],
             [
              0.6666666666666666,
              "#ed7953"
             ],
             [
              0.7777777777777778,
              "#fb9f3a"
             ],
             [
              0.8888888888888888,
              "#fdca26"
             ],
             [
              1,
              "#f0f921"
             ]
            ],
            "type": "histogram2dcontour"
           }
          ],
          "mesh3d": [
           {
            "colorbar": {
             "outlinewidth": 0,
             "ticks": ""
            },
            "type": "mesh3d"
           }
          ],
          "parcoords": [
           {
            "line": {
             "colorbar": {
              "outlinewidth": 0,
              "ticks": ""
             }
            },
            "type": "parcoords"
           }
          ],
          "pie": [
           {
            "automargin": true,
            "type": "pie"
           }
          ],
          "scatter": [
           {
            "fillpattern": {
             "fillmode": "overlay",
             "size": 10,
             "solidity": 0.2
            },
            "type": "scatter"
           }
          ],
          "scatter3d": [
           {
            "line": {
             "colorbar": {
              "outlinewidth": 0,
              "ticks": ""
             }
            },
            "marker": {
             "colorbar": {
              "outlinewidth": 0,
              "ticks": ""
             }
            },
            "type": "scatter3d"
           }
          ],
          "scattercarpet": [
           {
            "marker": {
             "colorbar": {
              "outlinewidth": 0,
              "ticks": ""
             }
            },
            "type": "scattercarpet"
           }
          ],
          "scattergeo": [
           {
            "marker": {
             "colorbar": {
              "outlinewidth": 0,
              "ticks": ""
             }
            },
            "type": "scattergeo"
           }
          ],
          "scattergl": [
           {
            "marker": {
             "colorbar": {
              "outlinewidth": 0,
              "ticks": ""
             }
            },
            "type": "scattergl"
           }
          ],
          "scattermapbox": [
           {
            "marker": {
             "colorbar": {
              "outlinewidth": 0,
              "ticks": ""
             }
            },
            "type": "scattermapbox"
           }
          ],
          "scatterpolar": [
           {
            "marker": {
             "colorbar": {
              "outlinewidth": 0,
              "ticks": ""
             }
            },
            "type": "scatterpolar"
           }
          ],
          "scatterpolargl": [
           {
            "marker": {
             "colorbar": {
              "outlinewidth": 0,
              "ticks": ""
             }
            },
            "type": "scatterpolargl"
           }
          ],
          "scatterternary": [
           {
            "marker": {
             "colorbar": {
              "outlinewidth": 0,
              "ticks": ""
             }
            },
            "type": "scatterternary"
           }
          ],
          "surface": [
           {
            "colorbar": {
             "outlinewidth": 0,
             "ticks": ""
            },
            "colorscale": [
             [
              0,
              "#0d0887"
             ],
             [
              0.1111111111111111,
              "#46039f"
             ],
             [
              0.2222222222222222,
              "#7201a8"
             ],
             [
              0.3333333333333333,
              "#9c179e"
             ],
             [
              0.4444444444444444,
              "#bd3786"
             ],
             [
              0.5555555555555556,
              "#d8576b"
             ],
             [
              0.6666666666666666,
              "#ed7953"
             ],
             [
              0.7777777777777778,
              "#fb9f3a"
             ],
             [
              0.8888888888888888,
              "#fdca26"
             ],
             [
              1,
              "#f0f921"
             ]
            ],
            "type": "surface"
           }
          ],
          "table": [
           {
            "cells": {
             "fill": {
              "color": "#EBF0F8"
             },
             "line": {
              "color": "white"
             }
            },
            "header": {
             "fill": {
              "color": "#C8D4E3"
             },
             "line": {
              "color": "white"
             }
            },
            "type": "table"
           }
          ]
         },
         "layout": {
          "annotationdefaults": {
           "arrowcolor": "#2a3f5f",
           "arrowhead": 0,
           "arrowwidth": 1
          },
          "autotypenumbers": "strict",
          "coloraxis": {
           "colorbar": {
            "outlinewidth": 0,
            "ticks": ""
           }
          },
          "colorscale": {
           "diverging": [
            [
             0,
             "#8e0152"
            ],
            [
             0.1,
             "#c51b7d"
            ],
            [
             0.2,
             "#de77ae"
            ],
            [
             0.3,
             "#f1b6da"
            ],
            [
             0.4,
             "#fde0ef"
            ],
            [
             0.5,
             "#f7f7f7"
            ],
            [
             0.6,
             "#e6f5d0"
            ],
            [
             0.7,
             "#b8e186"
            ],
            [
             0.8,
             "#7fbc41"
            ],
            [
             0.9,
             "#4d9221"
            ],
            [
             1,
             "#276419"
            ]
           ],
           "sequential": [
            [
             0,
             "#0d0887"
            ],
            [
             0.1111111111111111,
             "#46039f"
            ],
            [
             0.2222222222222222,
             "#7201a8"
            ],
            [
             0.3333333333333333,
             "#9c179e"
            ],
            [
             0.4444444444444444,
             "#bd3786"
            ],
            [
             0.5555555555555556,
             "#d8576b"
            ],
            [
             0.6666666666666666,
             "#ed7953"
            ],
            [
             0.7777777777777778,
             "#fb9f3a"
            ],
            [
             0.8888888888888888,
             "#fdca26"
            ],
            [
             1,
             "#f0f921"
            ]
           ],
           "sequentialminus": [
            [
             0,
             "#0d0887"
            ],
            [
             0.1111111111111111,
             "#46039f"
            ],
            [
             0.2222222222222222,
             "#7201a8"
            ],
            [
             0.3333333333333333,
             "#9c179e"
            ],
            [
             0.4444444444444444,
             "#bd3786"
            ],
            [
             0.5555555555555556,
             "#d8576b"
            ],
            [
             0.6666666666666666,
             "#ed7953"
            ],
            [
             0.7777777777777778,
             "#fb9f3a"
            ],
            [
             0.8888888888888888,
             "#fdca26"
            ],
            [
             1,
             "#f0f921"
            ]
           ]
          },
          "colorway": [
           "#636efa",
           "#EF553B",
           "#00cc96",
           "#ab63fa",
           "#FFA15A",
           "#19d3f3",
           "#FF6692",
           "#B6E880",
           "#FF97FF",
           "#FECB52"
          ],
          "font": {
           "color": "#2a3f5f"
          },
          "geo": {
           "bgcolor": "white",
           "lakecolor": "white",
           "landcolor": "#E5ECF6",
           "showlakes": true,
           "showland": true,
           "subunitcolor": "white"
          },
          "hoverlabel": {
           "align": "left"
          },
          "hovermode": "closest",
          "mapbox": {
           "style": "light"
          },
          "paper_bgcolor": "white",
          "plot_bgcolor": "#E5ECF6",
          "polar": {
           "angularaxis": {
            "gridcolor": "white",
            "linecolor": "white",
            "ticks": ""
           },
           "bgcolor": "#E5ECF6",
           "radialaxis": {
            "gridcolor": "white",
            "linecolor": "white",
            "ticks": ""
           }
          },
          "scene": {
           "xaxis": {
            "backgroundcolor": "#E5ECF6",
            "gridcolor": "white",
            "gridwidth": 2,
            "linecolor": "white",
            "showbackground": true,
            "ticks": "",
            "zerolinecolor": "white"
           },
           "yaxis": {
            "backgroundcolor": "#E5ECF6",
            "gridcolor": "white",
            "gridwidth": 2,
            "linecolor": "white",
            "showbackground": true,
            "ticks": "",
            "zerolinecolor": "white"
           },
           "zaxis": {
            "backgroundcolor": "#E5ECF6",
            "gridcolor": "white",
            "gridwidth": 2,
            "linecolor": "white",
            "showbackground": true,
            "ticks": "",
            "zerolinecolor": "white"
           }
          },
          "shapedefaults": {
           "line": {
            "color": "#2a3f5f"
           }
          },
          "ternary": {
           "aaxis": {
            "gridcolor": "white",
            "linecolor": "white",
            "ticks": ""
           },
           "baxis": {
            "gridcolor": "white",
            "linecolor": "white",
            "ticks": ""
           },
           "bgcolor": "#E5ECF6",
           "caxis": {
            "gridcolor": "white",
            "linecolor": "white",
            "ticks": ""
           }
          },
          "title": {
           "x": 0.05
          },
          "xaxis": {
           "automargin": true,
           "gridcolor": "white",
           "linecolor": "white",
           "ticks": "",
           "title": {
            "standoff": 15
           },
           "zerolinecolor": "white",
           "zerolinewidth": 2
          },
          "yaxis": {
           "automargin": true,
           "gridcolor": "white",
           "linecolor": "white",
           "ticks": "",
           "title": {
            "standoff": 15
           },
           "zerolinecolor": "white",
           "zerolinewidth": 2
          }
         }
        },
        "title": {
         "text": "Personalized Movie Recommendations for User 1"
        },
        "xaxis": {
         "title": {
          "text": "Movie ID"
         }
        },
        "yaxis": {
         "title": {
          "text": "Movie Rating"
         }
        }
       }
      }
     },
     "metadata": {},
     "output_type": "display_data"
    }
   ],
   "source": [
    "# Create an interactive scatter plot\n",
    "fig = go.Figure()\n",
    "\n",
    "# Add scatter trace\n",
    "fig.add_trace(\n",
    "    go.Scatter(\n",
    "        x=movie_data_df_results['movieId'],\n",
    "        y=movie_data_df_results['mean_ratings'],\n",
    "        text=movie_data_df_results['title'],\n",
    "        mode='markers',\n",
    "        marker=dict(\n",
    "            size=10,\n",
    "            color='blue',\n",
    "            opacity=0.7,\n",
    "            line=dict(width=1, color='DarkSlateGrey')\n",
    "        ),\n",
    "        hovertemplate='<b>Movie Title</b>: %{text}<br>'\n",
    "                      '<b>Movie ID</b>: %{x}<br>'\n",
    "                      '<b>Movie Rating</b>: %{y}<extra></extra>', \n",
    "    )\n",
    ")\n",
    "\n",
    "# Set axis labels and title\n",
    "fig.update_layout(\n",
    "    title=f'Personalized Movie Recommendations for User {target_user}',\n",
    "    xaxis_title='Movie ID',\n",
    "    yaxis_title='Movie Rating',\n",
    ")\n",
    "\n",
    "# Show the plot\n",
    "fig.show()"
   ]
  },
  {
   "cell_type": "code",
   "execution_count": 15,
   "metadata": {},
   "outputs": [
    {
     "data": {
      "image/png": "[encoded data removed]",
      "text/plain": [
       "<IPython.core.display.Image object>"
      ]
     },
     "metadata": {},
     "output_type": "display_data"
    }
   ],
   "source": [
    "display(Image(filename='https://github.com/kariemoorman/didactic-diy/blob/main/tutorials/recommendation/images/img_2.png'))"
   ]
  },
  {
   "cell_type": "code",
   "execution_count": null,
   "metadata": {},
   "outputs": [],
   "source": []
  }
 ],
 "metadata": {
  "kernelspec": {
   "display_name": ".venv",
   "language": "python",
   "name": "python3"
  },
  "language_info": {
   "codemirror_mode": {
    "name": "ipython",
    "version": 3
   },
   "file_extension": ".py",
   "mimetype": "text/x-python",
   "name": "python",
   "nbconvert_exporter": "python",
   "pygments_lexer": "ipython3",
   "version": "3.10.12"
  },
  "orig_nbformat": 4
 },
 "nbformat": 4,
 "nbformat_minor": 2
}
